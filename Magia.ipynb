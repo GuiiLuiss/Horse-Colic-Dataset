{
 "cells": [
  {
   "cell_type": "markdown",
   "metadata": {
    "id": "8syXmFSpTsao"
   },
   "source": [
    "# Pesquisas - considerar janela de contexto na classificação\n",
    "---"
   ]
  },
  {
   "cell_type": "markdown",
   "metadata": {
    "id": "Pm0Wc_5OTnLt"
   },
   "source": [
    "## Importando Libs\n",
    "---\n"
   ]
  },
  {
   "cell_type": "code",
   "execution_count": null,
   "metadata": {
    "id": "1feKl4bVEHgM"
   },
   "outputs": [],
   "source": [
    "import pandas as pd\n",
    "import torch\n",
    "import torch.nn.functional as F\n",
    "\n",
    "!pip install transformers==4.30.2\n",
    "!pip install simpletransformers\n",
    "from simpletransformers.language_representation import RepresentationModel"
   ]
  },
  {
   "cell_type": "code",
   "execution_count": null,
   "metadata": {},
   "outputs": [],
   "source": [
    "# Carasdasregando o modelo BERT em pofdrtuguês # Carregando o modelo BERT em português # Carregando o modelo BERT em português # Carregando o modelo BERT em português # Carregando o modelo BERT em português # Carregando o modelo BERT em português # Carregando o modelo BERT em português # Carregando o modelo BERT em português # Carregando o modelo BERT em português # Carregando o modelo BERT em português # Carregando o modelo BERT em português # Carregando o modelo BERT em português # Carregando o modelo BERT em português # Carregando o modelo BERT em português # Carregando o modelo BERT em português"
   ]
  },
  {
   "cell_type": "markdown",
   "metadata": {
    "id": "kD-u-2xHTybQ"
   },
   "source": [
    "## Modelo BERT\n",
    "---"
   ]
  },
  {
   "cell_type": "code",
   "execution_count": null,
   "metadata": {
    "id": "KW0AJzIZE369"
   },
   "outputs": [],
   "source": [
    "# Carregando o modelo BERT em português\n",
    "model = RepresentationModel(\n",
    "    model_type=\"bert\",\n",
    "    model_name=\"neuralmind/bert-base-portuguese-cased\",\n",
    "    use_cuda=True,  # Defina como True se tiver GPU\n",
    ")"
   ]
  },
  {
   "cell_type": "markdown",
   "metadata": {
    "id": "XmTsJ0X1T1op"
   },
   "source": [
    "## Magia\n",
    "---"
   ]
  },
  {
   "cell_type": "markdown",
   "metadata": {
    "id": "U_Yo_8v9T82r"
   },
   "source": [
    "### Similaridade do cosseno"
   ]
  },
  {
   "cell_type": "code",
   "execution_count": null,
   "metadata": {
    "id": "yPMPw9jsFD7i"
   },
   "outputs": [],
   "source": [
    "def calculate_cosine_distance(vec1, vec2):\n",
    "    vec1_tensor = torch.tensor(vec1)\n",
    "    vec2_tensor = torch.tensor(vec2)\n",
    "\n",
    "    # Calculando a similaridade do cosseno\n",
    "    cosine_similarity = F.cosine_similarity(vec1_tensor, vec2_tensor).item()\n",
    "    return cosine_similarity"
   ]
  },
  {
   "cell_type": "markdown",
   "metadata": {
    "id": "hi1gXbXdUD-5"
   },
   "source": [
    "### Cálculo de distância\n",
    "---"
   ]
  },
  {
   "cell_type": "code",
   "execution_count": null,
   "metadata": {
    "id": "cJWzDQmVDewd"
   },
   "outputs": [],
   "source": [
    "def magia(prev_question, current_question, threshold=0.7):\n",
    "    # Obtenha os embeddings das perguntas usando BERT\n",
    "    prev_embedding = model.encode_sentences([prev_question], combine_strategy=\"mean\")  # Anterior\n",
    "    current_embedding = model.encode_sentences([current_question], combine_strategy=\"mean\")  # Atual\n",
    "\n",
    "    # Calcule a distância do cosseno\n",
    "    cosine_distance = calculate_cosine_distance(prev_embedding, current_embedding)\n",
    "    # print(\"Esse é meu threshold: \", cosine_distance)\n",
    "\n",
    "    # Verifique se a pergunta é de seguimento com base no limiar\n",
    "    if cosine_distance > threshold:\n",
    "        return \"Pergunta Seguimentar\"\n",
    "    else:\n",
    "        return \"Pergunta Base\""
   ]
  },
  {
   "cell_type": "markdown",
   "metadata": {
    "id": "2kZseBjRUIiQ"
   },
   "source": [
    "### Testes aleatórios\n",
    "---"
   ]
  },
  {
   "cell_type": "code",
   "execution_count": null,
   "metadata": {
    "colab": {
     "base_uri": "https://localhost:8080/"
    },
    "id": "5gsqqV2oFA0d",
    "outputId": "a171f382-f50a-424d-83f8-bcf433a76c67"
   },
   "outputs": [
    {
     "name": "stdout",
     "output_type": "stream",
     "text": [
      "Pergunta Base\n"
     ]
    }
   ],
   "source": [
    "# Teste\n",
    "prev_question = \"Alguma vez você foi diagnosticado com alguma condição médica crônica?\"  # Anterior\n",
    "current_question = \"Te passaram qual medicamento?\"  # Atual\n",
    "print(magia(prev_question, current_question))"
   ]
  },
  {
   "cell_type": "markdown",
   "metadata": {
    "id": "aSJPUSoeUMQI"
   },
   "source": [
    "## Avaliação | Dados de validação"
   ]
  },
  {
   "cell_type": "code",
   "execution_count": null,
   "metadata": {
    "colab": {
     "base_uri": "https://localhost:8080/",
     "height": 363
    },
    "id": "1R0XiStQDLDV",
    "outputId": "d0015c01-dff2-4d1c-a3ee-6209d1a6b5c7"
   },
   "outputs": [
    {
     "data": {
      "text/html": [
       "\n",
       "  <div id=\"df-abe175a2-bc2a-4a58-bb80-80e58e2e740c\" class=\"colab-df-container\">\n",
       "    <div>\n",
       "<style scoped>\n",
       "    .dataframe tbody tr th:only-of-type {\n",
       "        vertical-align: middle;\n",
       "    }\n",
       "\n",
       "    .dataframe tbody tr th {\n",
       "        vertical-align: top;\n",
       "    }\n",
       "\n",
       "    .dataframe thead th {\n",
       "        text-align: right;\n",
       "    }\n",
       "</style>\n",
       "<table border=\"1\" class=\"dataframe\">\n",
       "  <thead>\n",
       "    <tr style=\"text-align: right;\">\n",
       "      <th></th>\n",
       "      <th>Pergunta</th>\n",
       "      <th>Label</th>\n",
       "    </tr>\n",
       "  </thead>\n",
       "  <tbody>\n",
       "    <tr>\n",
       "      <th>0</th>\n",
       "      <td>Você faz uso de algum medicamento de forma reg...</td>\n",
       "      <td>Pergunta Base</td>\n",
       "    </tr>\n",
       "    <tr>\n",
       "      <th>1</th>\n",
       "      <td>Há quanto tempo você começou a tomar esse medi...</td>\n",
       "      <td>Pergunta Seguimentar</td>\n",
       "    </tr>\n",
       "    <tr>\n",
       "      <th>2</th>\n",
       "      <td>Existem suplementos ou vitaminas que você este...</td>\n",
       "      <td>Pergunta Base</td>\n",
       "    </tr>\n",
       "    <tr>\n",
       "      <th>3</th>\n",
       "      <td>Um médico ou profissional de saúde recomendou ...</td>\n",
       "      <td>Pergunta Seguimentar</td>\n",
       "    </tr>\n",
       "    <tr>\n",
       "      <th>4</th>\n",
       "      <td>Houve alguma mudança em sua medicação nos últi...</td>\n",
       "      <td>Pergunta Base</td>\n",
       "    </tr>\n",
       "    <tr>\n",
       "      <th>5</th>\n",
       "      <td>Qual foi a razão por trás dessa alteração na m...</td>\n",
       "      <td>Pergunta Seguimentar</td>\n",
       "    </tr>\n",
       "    <tr>\n",
       "      <th>6</th>\n",
       "      <td>Você já teve alguma reação alérgica a algum me...</td>\n",
       "      <td>Pergunta Base</td>\n",
       "    </tr>\n",
       "    <tr>\n",
       "      <th>7</th>\n",
       "      <td>Que tipo de reação você teve e como isso foi t...</td>\n",
       "      <td>Pergunta Seguimentar</td>\n",
       "    </tr>\n",
       "    <tr>\n",
       "      <th>8</th>\n",
       "      <td>Você tem alguma preocupação em relação à sua m...</td>\n",
       "      <td>Pergunta Base</td>\n",
       "    </tr>\n",
       "    <tr>\n",
       "      <th>9</th>\n",
       "      <td>Que tipo de preocupações você tem e como você ...</td>\n",
       "      <td>Pergunta Seguimentar</td>\n",
       "    </tr>\n",
       "  </tbody>\n",
       "</table>\n",
       "</div>\n",
       "    <div class=\"colab-df-buttons\">\n",
       "\n",
       "  <div class=\"colab-df-container\">\n",
       "    <button class=\"colab-df-convert\" onclick=\"convertToInteractive('df-abe175a2-bc2a-4a58-bb80-80e58e2e740c')\"\n",
       "            title=\"Convert this dataframe to an interactive table.\"\n",
       "            style=\"display:none;\">\n",
       "\n",
       "  <svg xmlns=\"http://www.w3.org/2000/svg\" height=\"24px\" viewBox=\"0 -960 960 960\">\n",
       "    <path d=\"M120-120v-720h720v720H120Zm60-500h600v-160H180v160Zm220 220h160v-160H400v160Zm0 220h160v-160H400v160ZM180-400h160v-160H180v160Zm440 0h160v-160H620v160ZM180-180h160v-160H180v160Zm440 0h160v-160H620v160Z\"/>\n",
       "  </svg>\n",
       "    </button>\n",
       "\n",
       "  <style>\n",
       "    .colab-df-container {\n",
       "      display:flex;\n",
       "      gap: 12px;\n",
       "    }\n",
       "\n",
       "    .colab-df-convert {\n",
       "      background-color: #E8F0FE;\n",
       "      border: none;\n",
       "      border-radius: 50%;\n",
       "      cursor: pointer;\n",
       "      display: none;\n",
       "      fill: #1967D2;\n",
       "      height: 32px;\n",
       "      padding: 0 0 0 0;\n",
       "      width: 32px;\n",
       "    }\n",
       "\n",
       "    .colab-df-convert:hover {\n",
       "      background-color: #E2EBFA;\n",
       "      box-shadow: 0px 1px 2px rgba(60, 64, 67, 0.3), 0px 1px 3px 1px rgba(60, 64, 67, 0.15);\n",
       "      fill: #174EA6;\n",
       "    }\n",
       "\n",
       "    .colab-df-buttons div {\n",
       "      margin-bottom: 4px;\n",
       "    }\n",
       "\n",
       "    [theme=dark] .colab-df-convert {\n",
       "      background-color: #3B4455;\n",
       "      fill: #D2E3FC;\n",
       "    }\n",
       "\n",
       "    [theme=dark] .colab-df-convert:hover {\n",
       "      background-color: #434B5C;\n",
       "      box-shadow: 0px 1px 3px 1px rgba(0, 0, 0, 0.15);\n",
       "      filter: drop-shadow(0px 1px 2px rgba(0, 0, 0, 0.3));\n",
       "      fill: #FFFFFF;\n",
       "    }\n",
       "  </style>\n",
       "\n",
       "    <script>\n",
       "      const buttonEl =\n",
       "        document.querySelector('#df-abe175a2-bc2a-4a58-bb80-80e58e2e740c button.colab-df-convert');\n",
       "      buttonEl.style.display =\n",
       "        google.colab.kernel.accessAllowed ? 'block' : 'none';\n",
       "\n",
       "      async function convertToInteractive(key) {\n",
       "        const element = document.querySelector('#df-abe175a2-bc2a-4a58-bb80-80e58e2e740c');\n",
       "        const dataTable =\n",
       "          await google.colab.kernel.invokeFunction('convertToInteractive',\n",
       "                                                    [key], {});\n",
       "        if (!dataTable) return;\n",
       "\n",
       "        const docLinkHtml = 'Like what you see? Visit the ' +\n",
       "          '<a target=\"_blank\" href=https://colab.research.google.com/notebooks/data_table.ipynb>data table notebook</a>'\n",
       "          + ' to learn more about interactive tables.';\n",
       "        element.innerHTML = '';\n",
       "        dataTable['output_type'] = 'display_data';\n",
       "        await google.colab.output.renderOutput(dataTable, element);\n",
       "        const docLink = document.createElement('div');\n",
       "        docLink.innerHTML = docLinkHtml;\n",
       "        element.appendChild(docLink);\n",
       "      }\n",
       "    </script>\n",
       "  </div>\n",
       "\n",
       "\n",
       "<div id=\"df-2d2e7c92-8724-47dd-92f6-b17c76d9551a\">\n",
       "  <button class=\"colab-df-quickchart\" onclick=\"quickchart('df-2d2e7c92-8724-47dd-92f6-b17c76d9551a')\"\n",
       "            title=\"Suggest charts.\"\n",
       "            style=\"display:none;\">\n",
       "\n",
       "<svg xmlns=\"http://www.w3.org/2000/svg\" height=\"24px\"viewBox=\"0 0 24 24\"\n",
       "     width=\"24px\">\n",
       "    <g>\n",
       "        <path d=\"M19 3H5c-1.1 0-2 .9-2 2v14c0 1.1.9 2 2 2h14c1.1 0 2-.9 2-2V5c0-1.1-.9-2-2-2zM9 17H7v-7h2v7zm4 0h-2V7h2v10zm4 0h-2v-4h2v4z\"/>\n",
       "    </g>\n",
       "</svg>\n",
       "  </button>\n",
       "\n",
       "<style>\n",
       "  .colab-df-quickchart {\n",
       "    background-color: #E8F0FE;\n",
       "    border: none;\n",
       "    border-radius: 50%;\n",
       "    cursor: pointer;\n",
       "    display: none;\n",
       "    fill: #1967D2;\n",
       "    height: 32px;\n",
       "    padding: 0 0 0 0;\n",
       "    width: 32px;\n",
       "  }\n",
       "\n",
       "  .colab-df-quickchart:hover {\n",
       "    background-color: #E2EBFA;\n",
       "    box-shadow: 0px 1px 2px rgba(60, 64, 67, 0.3), 0px 1px 3px 1px rgba(60, 64, 67, 0.15);\n",
       "    fill: #174EA6;\n",
       "  }\n",
       "\n",
       "  [theme=dark] .colab-df-quickchart {\n",
       "    background-color: #3B4455;\n",
       "    fill: #D2E3FC;\n",
       "  }\n",
       "\n",
       "  [theme=dark] .colab-df-quickchart:hover {\n",
       "    background-color: #434B5C;\n",
       "    box-shadow: 0px 1px 3px 1px rgba(0, 0, 0, 0.15);\n",
       "    filter: drop-shadow(0px 1px 2px rgba(0, 0, 0, 0.3));\n",
       "    fill: #FFFFFF;\n",
       "  }\n",
       "</style>\n",
       "\n",
       "  <script>\n",
       "    async function quickchart(key) {\n",
       "      const charts = await google.colab.kernel.invokeFunction(\n",
       "          'suggestCharts', [key], {});\n",
       "    }\n",
       "    (() => {\n",
       "      let quickchartButtonEl =\n",
       "        document.querySelector('#df-2d2e7c92-8724-47dd-92f6-b17c76d9551a button');\n",
       "      quickchartButtonEl.style.display =\n",
       "        google.colab.kernel.accessAllowed ? 'block' : 'none';\n",
       "    })();\n",
       "  </script>\n",
       "</div>\n",
       "    </div>\n",
       "  </div>\n"
      ],
      "text/plain": [
       "                                            Pergunta                 Label\n",
       "0  Você faz uso de algum medicamento de forma reg...         Pergunta Base\n",
       "1  Há quanto tempo você começou a tomar esse medi...  Pergunta Seguimentar\n",
       "2  Existem suplementos ou vitaminas que você este...         Pergunta Base\n",
       "3  Um médico ou profissional de saúde recomendou ...  Pergunta Seguimentar\n",
       "4  Houve alguma mudança em sua medicação nos últi...         Pergunta Base\n",
       "5  Qual foi a razão por trás dessa alteração na m...  Pergunta Seguimentar\n",
       "6  Você já teve alguma reação alérgica a algum me...         Pergunta Base\n",
       "7  Que tipo de reação você teve e como isso foi t...  Pergunta Seguimentar\n",
       "8  Você tem alguma preocupação em relação à sua m...         Pergunta Base\n",
       "9  Que tipo de preocupações você tem e como você ...  Pergunta Seguimentar"
      ]
     },
     "execution_count": 7,
     "metadata": {},
     "output_type": "execute_result"
    }
   ],
   "source": [
    "df = pd.read_csv(\"validacao.csv\")\n",
    "df.head(10)"
   ]
  },
  {
   "cell_type": "markdown",
   "metadata": {
    "id": "2r_Js4qhUXd4"
   },
   "source": [
    "### Caminho Feliz\n",
    "---\n",
    "Classificação somente das perguntas seguimentares"
   ]
  },
  {
   "cell_type": "code",
   "execution_count": null,
   "metadata": {
    "colab": {
     "base_uri": "https://localhost:8080/"
    },
    "id": "fMK6ahE9GIC7",
    "outputId": "0da74bef-16f4-4849-ba5c-7cf782daf6da"
   },
   "outputs": [
    {
     "data": {
      "text/plain": [
       "0.88"
      ]
     },
     "execution_count": 8,
     "metadata": {},
     "output_type": "execute_result"
    }
   ],
   "source": [
    "# Caminho feliz\n",
    "# Lista para armazenar as previsões\n",
    "predictions = []\n",
    "\n",
    "# Iterando sobre as perguntas de dois em dois\n",
    "for i in range(0, len(df), 2):\n",
    "    # Se houver uma pergunta seguimentar após a pergunta base\n",
    "    if i + 1 < len(df):\n",
    "        prev_question = df.iloc[i][\"Pergunta\"]\n",
    "        current_question = df.iloc[i + 1][\"Pergunta\"]\n",
    "\n",
    "        # Obtenha a previsão para a pergunta base (sempre será 'Pergunta Base')\n",
    "        predictions.append(\"Pergunta Base\")\n",
    "\n",
    "        # Obtenha a previsão para a pergunta seguimentar usando a função magia\n",
    "        prediction = magia(prev_question, current_question)\n",
    "        predictions.append(prediction)\n",
    "    else:\n",
    "        # Se não houver pergunta seguimentar após a pergunta base, apenas adicione a previsão da pergunta base\n",
    "        predictions.append(\"Pergunta Base\")\n",
    "\n",
    "# Adicionando a coluna de previsão ao dataframe\n",
    "df[\"Previsão\"] = predictions\n",
    "\n",
    "accuracy = (df[\"Label\"] == df[\"Previsão\"]).mean()\n",
    "accuracy"
   ]
  },
  {
   "cell_type": "markdown",
   "metadata": {
    "id": "irKi3pWAUeRl"
   },
   "source": [
    "### Classificação do dataset todo\n",
    "---\n",
    "A primeira linha é definida como 'Pergunta Base'"
   ]
  },
  {
   "cell_type": "code",
   "execution_count": null,
   "metadata": {
    "colab": {
     "base_uri": "https://localhost:8080/"
    },
    "id": "b_MWxZocDGk1",
    "outputId": "e62e52fc-4b9b-4304-a00f-7f491bf56a80"
   },
   "outputs": [
    {
     "data": {
      "text/plain": [
       "0.74"
      ]
     },
     "execution_count": 9,
     "metadata": {},
     "output_type": "execute_result"
    }
   ],
   "source": [
    "# Percorrendo a planilha\n",
    "# Lista para armazenar as previsões\n",
    "predictions = []\n",
    "\n",
    "# Adiciona a previsão para a primeira pergunta (sempre será 'Pergunta Base')\n",
    "predictions.append(\"Pergunta Base\")\n",
    "\n",
    "# Iterando a partir da segunda pergunta\n",
    "for i in range(1, len(df)):\n",
    "    prev_question = df.iloc[i - 1][\"Pergunta\"]\n",
    "    current_question = df.iloc[i][\"Pergunta\"]\n",
    "\n",
    "    # Obtenha a previsão usando a função magia\n",
    "    prediction = magia(prev_question, current_question)\n",
    "    predictions.append(prediction)\n",
    "\n",
    "# Adicionando a coluna de previsão ao dataframe\n",
    "df[\"Previsão\"] = predictions\n",
    "\n",
    "accuracy = (df[\"Label\"] == df[\"Previsão\"]).mean()\n",
    "accuracy"
   ]
  },
  {
   "cell_type": "markdown",
   "metadata": {
    "id": "OKWylW_uVUeO"
   },
   "source": [
    "### Exportar resultados"
   ]
  },
  {
   "cell_type": "code",
   "execution_count": null,
   "metadata": {
    "id": "MIdAZrbODrHb"
   },
   "outputs": [],
   "source": [
    "# df.to_csv('/content/validacao_atualizado.csv', index=False)"
   ]
  },
  {
   "cell_type": "markdown",
   "metadata": {
    "id": "FFO1i7mEJ6nh"
   },
   "source": [
    "## Avaliação 1 | Simplício\n",
    "---\n",
    "Olhando 1 pergunta anterior"
   ]
  },
  {
   "cell_type": "markdown",
   "metadata": {
    "id": "bzRGg6vbVdSM"
   },
   "source": [
    "Importação dos dados"
   ]
  },
  {
   "cell_type": "code",
   "execution_count": null,
   "metadata": {
    "colab": {
     "base_uri": "https://localhost:8080/",
     "height": 363
    },
    "id": "3XJAzq7fJ7yj",
    "outputId": "1b4c41a0-b247-43a6-aaec-6cd46df12065"
   },
   "outputs": [
    {
     "data": {
      "text/html": [
       "\n",
       "  <div id=\"df-81e3b6c7-2e45-47e7-8177-9415b25f184d\" class=\"colab-df-container\">\n",
       "    <div>\n",
       "<style scoped>\n",
       "    .dataframe tbody tr th:only-of-type {\n",
       "        vertical-align: middle;\n",
       "    }\n",
       "\n",
       "    .dataframe tbody tr th {\n",
       "        vertical-align: top;\n",
       "    }\n",
       "\n",
       "    .dataframe thead th {\n",
       "        text-align: right;\n",
       "    }\n",
       "</style>\n",
       "<table border=\"1\" class=\"dataframe\">\n",
       "  <thead>\n",
       "    <tr style=\"text-align: right;\">\n",
       "      <th></th>\n",
       "      <th>Pergunta</th>\n",
       "      <th>Label</th>\n",
       "    </tr>\n",
       "  </thead>\n",
       "  <tbody>\n",
       "    <tr>\n",
       "      <th>0</th>\n",
       "      <td>Oi, Simplício, tudo bem?</td>\n",
       "      <td>Pergunta Base</td>\n",
       "    </tr>\n",
       "    <tr>\n",
       "      <th>1</th>\n",
       "      <td>Quais os seus sintomas?</td>\n",
       "      <td>Pergunta Base</td>\n",
       "    </tr>\n",
       "    <tr>\n",
       "      <th>2</th>\n",
       "      <td>Desde quando você tem esses sintomas?</td>\n",
       "      <td>Pergunta Seguimentar</td>\n",
       "    </tr>\n",
       "    <tr>\n",
       "      <th>3</th>\n",
       "      <td>Você foi diagnosticado do quê?</td>\n",
       "      <td>Pergunta Base</td>\n",
       "    </tr>\n",
       "    <tr>\n",
       "      <th>4</th>\n",
       "      <td>Me conte desses oito anos para cá, o que acont...</td>\n",
       "      <td>Pergunta Base</td>\n",
       "    </tr>\n",
       "    <tr>\n",
       "      <th>5</th>\n",
       "      <td>Como tem sido seu tratamento para a diabetes?</td>\n",
       "      <td>Pergunta Base</td>\n",
       "    </tr>\n",
       "    <tr>\n",
       "      <th>6</th>\n",
       "      <td>Você toma qual comprimido?</td>\n",
       "      <td>Pergunta Seguimentar</td>\n",
       "    </tr>\n",
       "    <tr>\n",
       "      <th>7</th>\n",
       "      <td>Quando foi a última vez que você fez a dosagem...</td>\n",
       "      <td>Pergunta Base</td>\n",
       "    </tr>\n",
       "    <tr>\n",
       "      <th>8</th>\n",
       "      <td>E você tinha mais algum sintoma?</td>\n",
       "      <td>Pergunta Seguimentar</td>\n",
       "    </tr>\n",
       "    <tr>\n",
       "      <th>9</th>\n",
       "      <td>Como é o seu sono?</td>\n",
       "      <td>Pergunta Base</td>\n",
       "    </tr>\n",
       "  </tbody>\n",
       "</table>\n",
       "</div>\n",
       "    <div class=\"colab-df-buttons\">\n",
       "\n",
       "  <div class=\"colab-df-container\">\n",
       "    <button class=\"colab-df-convert\" onclick=\"convertToInteractive('df-81e3b6c7-2e45-47e7-8177-9415b25f184d')\"\n",
       "            title=\"Convert this dataframe to an interactive table.\"\n",
       "            style=\"display:none;\">\n",
       "\n",
       "  <svg xmlns=\"http://www.w3.org/2000/svg\" height=\"24px\" viewBox=\"0 -960 960 960\">\n",
       "    <path d=\"M120-120v-720h720v720H120Zm60-500h600v-160H180v160Zm220 220h160v-160H400v160Zm0 220h160v-160H400v160ZM180-400h160v-160H180v160Zm440 0h160v-160H620v160ZM180-180h160v-160H180v160Zm440 0h160v-160H620v160Z\"/>\n",
       "  </svg>\n",
       "    </button>\n",
       "\n",
       "  <style>\n",
       "    .colab-df-container {\n",
       "      display:flex;\n",
       "      gap: 12px;\n",
       "    }\n",
       "\n",
       "    .colab-df-convert {\n",
       "      background-color: #E8F0FE;\n",
       "      border: none;\n",
       "      border-radius: 50%;\n",
       "      cursor: pointer;\n",
       "      display: none;\n",
       "      fill: #1967D2;\n",
       "      height: 32px;\n",
       "      padding: 0 0 0 0;\n",
       "      width: 32px;\n",
       "    }\n",
       "\n",
       "    .colab-df-convert:hover {\n",
       "      background-color: #E2EBFA;\n",
       "      box-shadow: 0px 1px 2px rgba(60, 64, 67, 0.3), 0px 1px 3px 1px rgba(60, 64, 67, 0.15);\n",
       "      fill: #174EA6;\n",
       "    }\n",
       "\n",
       "    .colab-df-buttons div {\n",
       "      margin-bottom: 4px;\n",
       "    }\n",
       "\n",
       "    [theme=dark] .colab-df-convert {\n",
       "      background-color: #3B4455;\n",
       "      fill: #D2E3FC;\n",
       "    }\n",
       "\n",
       "    [theme=dark] .colab-df-convert:hover {\n",
       "      background-color: #434B5C;\n",
       "      box-shadow: 0px 1px 3px 1px rgba(0, 0, 0, 0.15);\n",
       "      filter: drop-shadow(0px 1px 2px rgba(0, 0, 0, 0.3));\n",
       "      fill: #FFFFFF;\n",
       "    }\n",
       "  </style>\n",
       "\n",
       "    <script>\n",
       "      const buttonEl =\n",
       "        document.querySelector('#df-81e3b6c7-2e45-47e7-8177-9415b25f184d button.colab-df-convert');\n",
       "      buttonEl.style.display =\n",
       "        google.colab.kernel.accessAllowed ? 'block' : 'none';\n",
       "\n",
       "      async function convertToInteractive(key) {\n",
       "        const element = document.querySelector('#df-81e3b6c7-2e45-47e7-8177-9415b25f184d');\n",
       "        const dataTable =\n",
       "          await google.colab.kernel.invokeFunction('convertToInteractive',\n",
       "                                                    [key], {});\n",
       "        if (!dataTable) return;\n",
       "\n",
       "        const docLinkHtml = 'Like what you see? Visit the ' +\n",
       "          '<a target=\"_blank\" href=https://colab.research.google.com/notebooks/data_table.ipynb>data table notebook</a>'\n",
       "          + ' to learn more about interactive tables.';\n",
       "        element.innerHTML = '';\n",
       "        dataTable['output_type'] = 'display_data';\n",
       "        await google.colab.output.renderOutput(dataTable, element);\n",
       "        const docLink = document.createElement('div');\n",
       "        docLink.innerHTML = docLinkHtml;\n",
       "        element.appendChild(docLink);\n",
       "      }\n",
       "    </script>\n",
       "  </div>\n",
       "\n",
       "\n",
       "<div id=\"df-cd586856-4b5f-4c7a-becc-6e861e9740cc\">\n",
       "  <button class=\"colab-df-quickchart\" onclick=\"quickchart('df-cd586856-4b5f-4c7a-becc-6e861e9740cc')\"\n",
       "            title=\"Suggest charts.\"\n",
       "            style=\"display:none;\">\n",
       "\n",
       "<svg xmlns=\"http://www.w3.org/2000/svg\" height=\"24px\"viewBox=\"0 0 24 24\"\n",
       "     width=\"24px\">\n",
       "    <g>\n",
       "        <path d=\"M19 3H5c-1.1 0-2 .9-2 2v14c0 1.1.9 2 2 2h14c1.1 0 2-.9 2-2V5c0-1.1-.9-2-2-2zM9 17H7v-7h2v7zm4 0h-2V7h2v10zm4 0h-2v-4h2v4z\"/>\n",
       "    </g>\n",
       "</svg>\n",
       "  </button>\n",
       "\n",
       "<style>\n",
       "  .colab-df-quickchart {\n",
       "    background-color: #E8F0FE;\n",
       "    border: none;\n",
       "    border-radius: 50%;\n",
       "    cursor: pointer;\n",
       "    display: none;\n",
       "    fill: #1967D2;\n",
       "    height: 32px;\n",
       "    padding: 0 0 0 0;\n",
       "    width: 32px;\n",
       "  }\n",
       "\n",
       "  .colab-df-quickchart:hover {\n",
       "    background-color: #E2EBFA;\n",
       "    box-shadow: 0px 1px 2px rgba(60, 64, 67, 0.3), 0px 1px 3px 1px rgba(60, 64, 67, 0.15);\n",
       "    fill: #174EA6;\n",
       "  }\n",
       "\n",
       "  [theme=dark] .colab-df-quickchart {\n",
       "    background-color: #3B4455;\n",
       "    fill: #D2E3FC;\n",
       "  }\n",
       "\n",
       "  [theme=dark] .colab-df-quickchart:hover {\n",
       "    background-color: #434B5C;\n",
       "    box-shadow: 0px 1px 3px 1px rgba(0, 0, 0, 0.15);\n",
       "    filter: drop-shadow(0px 1px 2px rgba(0, 0, 0, 0.3));\n",
       "    fill: #FFFFFF;\n",
       "  }\n",
       "</style>\n",
       "\n",
       "  <script>\n",
       "    async function quickchart(key) {\n",
       "      const charts = await google.colab.kernel.invokeFunction(\n",
       "          'suggestCharts', [key], {});\n",
       "    }\n",
       "    (() => {\n",
       "      let quickchartButtonEl =\n",
       "        document.querySelector('#df-cd586856-4b5f-4c7a-becc-6e861e9740cc button');\n",
       "      quickchartButtonEl.style.display =\n",
       "        google.colab.kernel.accessAllowed ? 'block' : 'none';\n",
       "    })();\n",
       "  </script>\n",
       "</div>\n",
       "    </div>\n",
       "  </div>\n"
      ],
      "text/plain": [
       "                                            Pergunta                 Label\n",
       "0                           Oi, Simplício, tudo bem?         Pergunta Base\n",
       "1                            Quais os seus sintomas?         Pergunta Base\n",
       "2              Desde quando você tem esses sintomas?  Pergunta Seguimentar\n",
       "3                     Você foi diagnosticado do quê?         Pergunta Base\n",
       "4  Me conte desses oito anos para cá, o que acont...         Pergunta Base\n",
       "5      Como tem sido seu tratamento para a diabetes?         Pergunta Base\n",
       "6                         Você toma qual comprimido?  Pergunta Seguimentar\n",
       "7  Quando foi a última vez que você fez a dosagem...         Pergunta Base\n",
       "8                   E você tinha mais algum sintoma?  Pergunta Seguimentar\n",
       "9                                 Como é o seu sono?         Pergunta Base"
      ]
     },
     "execution_count": 11,
     "metadata": {},
     "output_type": "execute_result"
    }
   ],
   "source": [
    "df = pd.read_csv(\"Simplicio.csv\")\n",
    "df.head(10)"
   ]
  },
  {
   "cell_type": "markdown",
   "metadata": {
    "id": "cZ4caltmVfzs"
   },
   "source": [
    "Percorrendo a planilha do Simplicio:"
   ]
  },
  {
   "cell_type": "code",
   "execution_count": null,
   "metadata": {
    "colab": {
     "base_uri": "https://localhost:8080/"
    },
    "id": "ZxkWTG01NsUt",
    "outputId": "e4e27af9-4601-420f-be6e-5a28eab2cecb"
   },
   "outputs": [
    {
     "data": {
      "text/plain": [
       "0.7142857142857143"
      ]
     },
     "execution_count": 12,
     "metadata": {},
     "output_type": "execute_result"
    }
   ],
   "source": [
    "# Lista para armazenar as previsões\n",
    "predictions = []\n",
    "\n",
    "# Adiciona a previsão para a primeira pergunta (sempre será 'Pergunta Base')\n",
    "predictions.append(\"Pergunta Base\")\n",
    "\n",
    "# Iterando a partir da segunda pergunta\n",
    "for i in range(1, len(df)):\n",
    "    prev_question = df.iloc[i - 1][\"Pergunta\"]\n",
    "    current_question = df.iloc[i][\"Pergunta\"]\n",
    "\n",
    "    # Obtenha a previsão usando a função magia\n",
    "    prediction = magia(prev_question, current_question)\n",
    "    predictions.append(prediction)\n",
    "\n",
    "# Adicionando a coluna de previsão ao dataframe\n",
    "df[\"Previsão\"] = predictions\n",
    "\n",
    "accuracy = (df[\"Label\"] == df[\"Previsão\"]).mean()\n",
    "accuracy"
   ]
  },
  {
   "cell_type": "markdown",
   "metadata": {
    "id": "CLbMf1QnV0rg"
   },
   "source": [
    "### Exportar resultados"
   ]
  },
  {
   "cell_type": "code",
   "execution_count": null,
   "metadata": {
    "id": "axPQI0nAN08J"
   },
   "outputs": [],
   "source": [
    "df.to_csv(\"/content/validacao_Simplício_atualizado.csv\", index=False)"
   ]
  },
  {
   "cell_type": "markdown",
   "metadata": {
    "id": "4IbM4NvNWOiN"
   },
   "source": [
    "## Avaliação 2 | Simplício\n",
    "---\n",
    "Olhando 2 perguntas anteriores"
   ]
  },
  {
   "cell_type": "code",
   "execution_count": null,
   "metadata": {
    "colab": {
     "base_uri": "https://localhost:8080/"
    },
    "id": "QkYEAtvVRFo-",
    "outputId": "b005a45a-e1b8-4107-f239-69a11845127f"
   },
   "outputs": [
    {
     "data": {
      "text/plain": [
       "0.7428571428571429"
      ]
     },
     "execution_count": 14,
     "metadata": {},
     "output_type": "execute_result"
    }
   ],
   "source": [
    "def magia_expandida(prev_question1, prev_question2, current_question, threshold=0.7):\n",
    "    # Obtenha os embeddings das perguntas usando BERT\n",
    "    prev_embedding1 = model.encode_sentences([prev_question1], combine_strategy=\"mean\")  # Anterior 1\n",
    "    prev_embedding2 = model.encode_sentences([prev_question2], combine_strategy=\"mean\")  # Anterior 2\n",
    "    current_embedding = model.encode_sentences([current_question], combine_strategy=\"mean\")  # Atual\n",
    "\n",
    "    # Calcule a distância do cosseno para ambas as perguntas anteriores\n",
    "    cosine_distance1 = calculate_cosine_distance(prev_embedding1, current_embedding)\n",
    "    cosine_distance2 = calculate_cosine_distance(prev_embedding2, current_embedding)\n",
    "\n",
    "    # Decisão com base nas duas distâncias\n",
    "    # No exemplo abaixo, considera-se \"Pergunta Seguimentar\" se pelo menos uma das distâncias exceder o limiar.\n",
    "    if cosine_distance1 > threshold or cosine_distance2 > threshold:\n",
    "        return \"Pergunta Seguimentar\"\n",
    "    else:\n",
    "        return \"Pergunta Base\"\n",
    "\n",
    "\n",
    "# Percorrendo a planilha\n",
    "predictions = []\n",
    "\n",
    "# Adiciona a previsão para as duas primeiras perguntas (elas serão sempre 'Pergunta Base' neste contexto)\n",
    "predictions.extend([\"Pergunta Base\", \"Pergunta Base\"])\n",
    "\n",
    "# Iterando a partir da terceira pergunta\n",
    "for i in range(2, len(df)):\n",
    "    prev_question1 = df.iloc[i - 2][\"Pergunta\"]\n",
    "    prev_question2 = df.iloc[i - 1][\"Pergunta\"]\n",
    "    current_question = df.iloc[i][\"Pergunta\"]\n",
    "\n",
    "    # Obtenha a previsão usando a função magia_expandida\n",
    "    prediction = magia_expandida(prev_question1, prev_question2, current_question)\n",
    "    predictions.append(prediction)\n",
    "\n",
    "# Adicionando a coluna de previsão ao dataframe\n",
    "df[\"Previsão\"] = predictions\n",
    "\n",
    "accuracy = (df[\"Label\"] == df[\"Previsão\"]).mean()\n",
    "accuracy"
   ]
  }
 ],
 "metadata": {
  "accelerator": "GPU",
  "colab": {
   "gpuType": "T4",
   "provenance": []
  },
  "kernelspec": {
   "display_name": "Python 3",
   "name": "python3"
  },
  "language_info": {
   "name": "python"
  }
 },
 "nbformat": 4,
 "nbformat_minor": 0
}
