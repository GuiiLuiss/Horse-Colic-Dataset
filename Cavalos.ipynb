{
 "cells": [
  {
   "cell_type": "markdown",
   "metadata": {},
   "source": [
    "# Contexto\n",
    "Preveja se um cavalo pode ou não sobreviver com base em condições médicas passadas.\n",
    "\n",
    "# Conteúdo\n",
    "Existem muitos NAs nos dados. Esta é a verdadeira luta aqui. Tente encontrar uma maneira de contornar isso através da imputação ou de outros meios."
   ]
  },
  {
   "cell_type": "code",
   "execution_count": 1,
   "metadata": {},
   "outputs": [],
   "source": [
    "#Importando as bibliotecas para manipulação e visualização do dataset\n",
    "\n",
    "import pandas as pd\n",
    "import numpy as np\n",
    "import seaborn as sns   \n",
    "import matplotlib.pyplot as plt\n",
    "%matplotlib inline"
   ]
  },
  {
   "cell_type": "code",
   "execution_count": 2,
   "metadata": {},
   "outputs": [],
   "source": [
    "df = pd.read_csv('C:/Users/guilh/Desktop/Projetinhos/Horse/horse.csv')"
   ]
  },
  {
   "cell_type": "markdown",
   "metadata": {},
   "source": [
    "# Análise exploratória"
   ]
  },
  {
   "cell_type": "code",
   "execution_count": 3,
   "metadata": {},
   "outputs": [
    {
     "name": "stdout",
     "output_type": "stream",
     "text": [
      "<class 'pandas.core.frame.DataFrame'>\n",
      "RangeIndex: 299 entries, 0 to 298\n",
      "Data columns (total 28 columns):\n",
      "surgery                  299 non-null object\n",
      "age                      299 non-null object\n",
      "hospital_number          299 non-null int64\n",
      "rectal_temp              239 non-null float64\n",
      "pulse                    275 non-null float64\n",
      "respiratory_rate         241 non-null float64\n",
      "temp_of_extremities      243 non-null object\n",
      "peripheral_pulse         230 non-null object\n",
      "mucous_membrane          252 non-null object\n",
      "capillary_refill_time    267 non-null object\n",
      "pain                     244 non-null object\n",
      "peristalsis              255 non-null object\n",
      "abdominal_distention     243 non-null object\n",
      "nasogastric_tube         195 non-null object\n",
      "nasogastric_reflux       193 non-null object\n",
      "nasogastric_reflux_ph    53 non-null float64\n",
      "rectal_exam_feces        197 non-null object\n",
      "abdomen                  181 non-null object\n",
      "packed_cell_volume       270 non-null float64\n",
      "total_protein            266 non-null float64\n",
      "abdomo_appearance        134 non-null object\n",
      "abdomo_protein           101 non-null float64\n",
      "outcome                  299 non-null object\n",
      "surgical_lesion          299 non-null object\n",
      "lesion_1                 299 non-null int64\n",
      "lesion_2                 299 non-null int64\n",
      "lesion_3                 299 non-null int64\n",
      "cp_data                  299 non-null object\n",
      "dtypes: float64(7), int64(4), object(17)\n",
      "memory usage: 65.5+ KB\n"
     ]
    }
   ],
   "source": [
    "#Verificando as informações do dataset\n",
    "\n",
    "df.info()"
   ]
  },
  {
   "cell_type": "code",
   "execution_count": 4,
   "metadata": {},
   "outputs": [
    {
     "data": {
      "text/html": [
       "<div>\n",
       "<style scoped>\n",
       "    .dataframe tbody tr th:only-of-type {\n",
       "        vertical-align: middle;\n",
       "    }\n",
       "\n",
       "    .dataframe tbody tr th {\n",
       "        vertical-align: top;\n",
       "    }\n",
       "\n",
       "    .dataframe thead th {\n",
       "        text-align: right;\n",
       "    }\n",
       "</style>\n",
       "<table border=\"1\" class=\"dataframe\">\n",
       "  <thead>\n",
       "    <tr style=\"text-align: right;\">\n",
       "      <th></th>\n",
       "      <th>surgery</th>\n",
       "      <th>age</th>\n",
       "      <th>hospital_number</th>\n",
       "      <th>rectal_temp</th>\n",
       "      <th>pulse</th>\n",
       "      <th>respiratory_rate</th>\n",
       "      <th>temp_of_extremities</th>\n",
       "      <th>peripheral_pulse</th>\n",
       "      <th>mucous_membrane</th>\n",
       "      <th>capillary_refill_time</th>\n",
       "      <th>...</th>\n",
       "      <th>packed_cell_volume</th>\n",
       "      <th>total_protein</th>\n",
       "      <th>abdomo_appearance</th>\n",
       "      <th>abdomo_protein</th>\n",
       "      <th>outcome</th>\n",
       "      <th>surgical_lesion</th>\n",
       "      <th>lesion_1</th>\n",
       "      <th>lesion_2</th>\n",
       "      <th>lesion_3</th>\n",
       "      <th>cp_data</th>\n",
       "    </tr>\n",
       "  </thead>\n",
       "  <tbody>\n",
       "    <tr>\n",
       "      <th>0</th>\n",
       "      <td>no</td>\n",
       "      <td>adult</td>\n",
       "      <td>530101</td>\n",
       "      <td>38.5</td>\n",
       "      <td>66.0</td>\n",
       "      <td>28.0</td>\n",
       "      <td>cool</td>\n",
       "      <td>reduced</td>\n",
       "      <td>NaN</td>\n",
       "      <td>more_3_sec</td>\n",
       "      <td>...</td>\n",
       "      <td>45.0</td>\n",
       "      <td>8.4</td>\n",
       "      <td>NaN</td>\n",
       "      <td>NaN</td>\n",
       "      <td>died</td>\n",
       "      <td>no</td>\n",
       "      <td>11300</td>\n",
       "      <td>0</td>\n",
       "      <td>0</td>\n",
       "      <td>no</td>\n",
       "    </tr>\n",
       "    <tr>\n",
       "      <th>1</th>\n",
       "      <td>yes</td>\n",
       "      <td>adult</td>\n",
       "      <td>534817</td>\n",
       "      <td>39.2</td>\n",
       "      <td>88.0</td>\n",
       "      <td>20.0</td>\n",
       "      <td>NaN</td>\n",
       "      <td>NaN</td>\n",
       "      <td>pale_cyanotic</td>\n",
       "      <td>less_3_sec</td>\n",
       "      <td>...</td>\n",
       "      <td>50.0</td>\n",
       "      <td>85.0</td>\n",
       "      <td>cloudy</td>\n",
       "      <td>2.0</td>\n",
       "      <td>euthanized</td>\n",
       "      <td>no</td>\n",
       "      <td>2208</td>\n",
       "      <td>0</td>\n",
       "      <td>0</td>\n",
       "      <td>no</td>\n",
       "    </tr>\n",
       "    <tr>\n",
       "      <th>2</th>\n",
       "      <td>no</td>\n",
       "      <td>adult</td>\n",
       "      <td>530334</td>\n",
       "      <td>38.3</td>\n",
       "      <td>40.0</td>\n",
       "      <td>24.0</td>\n",
       "      <td>normal</td>\n",
       "      <td>normal</td>\n",
       "      <td>pale_pink</td>\n",
       "      <td>less_3_sec</td>\n",
       "      <td>...</td>\n",
       "      <td>33.0</td>\n",
       "      <td>6.7</td>\n",
       "      <td>NaN</td>\n",
       "      <td>NaN</td>\n",
       "      <td>lived</td>\n",
       "      <td>no</td>\n",
       "      <td>0</td>\n",
       "      <td>0</td>\n",
       "      <td>0</td>\n",
       "      <td>yes</td>\n",
       "    </tr>\n",
       "    <tr>\n",
       "      <th>3</th>\n",
       "      <td>yes</td>\n",
       "      <td>young</td>\n",
       "      <td>5290409</td>\n",
       "      <td>39.1</td>\n",
       "      <td>164.0</td>\n",
       "      <td>84.0</td>\n",
       "      <td>cold</td>\n",
       "      <td>normal</td>\n",
       "      <td>dark_cyanotic</td>\n",
       "      <td>more_3_sec</td>\n",
       "      <td>...</td>\n",
       "      <td>48.0</td>\n",
       "      <td>7.2</td>\n",
       "      <td>serosanguious</td>\n",
       "      <td>5.3</td>\n",
       "      <td>died</td>\n",
       "      <td>yes</td>\n",
       "      <td>2208</td>\n",
       "      <td>0</td>\n",
       "      <td>0</td>\n",
       "      <td>yes</td>\n",
       "    </tr>\n",
       "    <tr>\n",
       "      <th>4</th>\n",
       "      <td>no</td>\n",
       "      <td>adult</td>\n",
       "      <td>530255</td>\n",
       "      <td>37.3</td>\n",
       "      <td>104.0</td>\n",
       "      <td>35.0</td>\n",
       "      <td>NaN</td>\n",
       "      <td>NaN</td>\n",
       "      <td>dark_cyanotic</td>\n",
       "      <td>more_3_sec</td>\n",
       "      <td>...</td>\n",
       "      <td>74.0</td>\n",
       "      <td>7.4</td>\n",
       "      <td>NaN</td>\n",
       "      <td>NaN</td>\n",
       "      <td>died</td>\n",
       "      <td>no</td>\n",
       "      <td>4300</td>\n",
       "      <td>0</td>\n",
       "      <td>0</td>\n",
       "      <td>no</td>\n",
       "    </tr>\n",
       "    <tr>\n",
       "      <th>5</th>\n",
       "      <td>no</td>\n",
       "      <td>adult</td>\n",
       "      <td>528355</td>\n",
       "      <td>NaN</td>\n",
       "      <td>NaN</td>\n",
       "      <td>NaN</td>\n",
       "      <td>warm</td>\n",
       "      <td>normal</td>\n",
       "      <td>pale_pink</td>\n",
       "      <td>less_3_sec</td>\n",
       "      <td>...</td>\n",
       "      <td>NaN</td>\n",
       "      <td>NaN</td>\n",
       "      <td>NaN</td>\n",
       "      <td>NaN</td>\n",
       "      <td>lived</td>\n",
       "      <td>no</td>\n",
       "      <td>0</td>\n",
       "      <td>0</td>\n",
       "      <td>0</td>\n",
       "      <td>no</td>\n",
       "    </tr>\n",
       "    <tr>\n",
       "      <th>6</th>\n",
       "      <td>yes</td>\n",
       "      <td>adult</td>\n",
       "      <td>526802</td>\n",
       "      <td>37.9</td>\n",
       "      <td>48.0</td>\n",
       "      <td>16.0</td>\n",
       "      <td>normal</td>\n",
       "      <td>normal</td>\n",
       "      <td>normal_pink</td>\n",
       "      <td>less_3_sec</td>\n",
       "      <td>...</td>\n",
       "      <td>37.0</td>\n",
       "      <td>7.0</td>\n",
       "      <td>NaN</td>\n",
       "      <td>NaN</td>\n",
       "      <td>lived</td>\n",
       "      <td>yes</td>\n",
       "      <td>3124</td>\n",
       "      <td>0</td>\n",
       "      <td>0</td>\n",
       "      <td>no</td>\n",
       "    </tr>\n",
       "    <tr>\n",
       "      <th>7</th>\n",
       "      <td>yes</td>\n",
       "      <td>adult</td>\n",
       "      <td>529607</td>\n",
       "      <td>NaN</td>\n",
       "      <td>60.0</td>\n",
       "      <td>NaN</td>\n",
       "      <td>cool</td>\n",
       "      <td>NaN</td>\n",
       "      <td>NaN</td>\n",
       "      <td>less_3_sec</td>\n",
       "      <td>...</td>\n",
       "      <td>44.0</td>\n",
       "      <td>8.3</td>\n",
       "      <td>NaN</td>\n",
       "      <td>NaN</td>\n",
       "      <td>died</td>\n",
       "      <td>yes</td>\n",
       "      <td>2208</td>\n",
       "      <td>0</td>\n",
       "      <td>0</td>\n",
       "      <td>no</td>\n",
       "    </tr>\n",
       "    <tr>\n",
       "      <th>8</th>\n",
       "      <td>no</td>\n",
       "      <td>adult</td>\n",
       "      <td>530051</td>\n",
       "      <td>NaN</td>\n",
       "      <td>80.0</td>\n",
       "      <td>36.0</td>\n",
       "      <td>cool</td>\n",
       "      <td>absent</td>\n",
       "      <td>pale_pink</td>\n",
       "      <td>less_3_sec</td>\n",
       "      <td>...</td>\n",
       "      <td>38.0</td>\n",
       "      <td>6.2</td>\n",
       "      <td>NaN</td>\n",
       "      <td>NaN</td>\n",
       "      <td>euthanized</td>\n",
       "      <td>yes</td>\n",
       "      <td>3205</td>\n",
       "      <td>0</td>\n",
       "      <td>0</td>\n",
       "      <td>no</td>\n",
       "    </tr>\n",
       "    <tr>\n",
       "      <th>9</th>\n",
       "      <td>no</td>\n",
       "      <td>young</td>\n",
       "      <td>5299629</td>\n",
       "      <td>38.3</td>\n",
       "      <td>90.0</td>\n",
       "      <td>NaN</td>\n",
       "      <td>normal</td>\n",
       "      <td>NaN</td>\n",
       "      <td>normal_pink</td>\n",
       "      <td>less_3_sec</td>\n",
       "      <td>...</td>\n",
       "      <td>40.0</td>\n",
       "      <td>6.2</td>\n",
       "      <td>clear</td>\n",
       "      <td>2.2</td>\n",
       "      <td>lived</td>\n",
       "      <td>no</td>\n",
       "      <td>0</td>\n",
       "      <td>0</td>\n",
       "      <td>0</td>\n",
       "      <td>yes</td>\n",
       "    </tr>\n",
       "  </tbody>\n",
       "</table>\n",
       "<p>10 rows × 28 columns</p>\n",
       "</div>"
      ],
      "text/plain": [
       "  surgery    age  hospital_number  rectal_temp  pulse  respiratory_rate  \\\n",
       "0      no  adult           530101         38.5   66.0              28.0   \n",
       "1     yes  adult           534817         39.2   88.0              20.0   \n",
       "2      no  adult           530334         38.3   40.0              24.0   \n",
       "3     yes  young          5290409         39.1  164.0              84.0   \n",
       "4      no  adult           530255         37.3  104.0              35.0   \n",
       "5      no  adult           528355          NaN    NaN               NaN   \n",
       "6     yes  adult           526802         37.9   48.0              16.0   \n",
       "7     yes  adult           529607          NaN   60.0               NaN   \n",
       "8      no  adult           530051          NaN   80.0              36.0   \n",
       "9      no  young          5299629         38.3   90.0               NaN   \n",
       "\n",
       "  temp_of_extremities peripheral_pulse mucous_membrane capillary_refill_time  \\\n",
       "0                cool          reduced             NaN            more_3_sec   \n",
       "1                 NaN              NaN   pale_cyanotic            less_3_sec   \n",
       "2              normal           normal       pale_pink            less_3_sec   \n",
       "3                cold           normal   dark_cyanotic            more_3_sec   \n",
       "4                 NaN              NaN   dark_cyanotic            more_3_sec   \n",
       "5                warm           normal       pale_pink            less_3_sec   \n",
       "6              normal           normal     normal_pink            less_3_sec   \n",
       "7                cool              NaN             NaN            less_3_sec   \n",
       "8                cool           absent       pale_pink            less_3_sec   \n",
       "9              normal              NaN     normal_pink            less_3_sec   \n",
       "\n",
       "   ... packed_cell_volume total_protein abdomo_appearance abdomo_protein  \\\n",
       "0  ...               45.0           8.4               NaN            NaN   \n",
       "1  ...               50.0          85.0            cloudy            2.0   \n",
       "2  ...               33.0           6.7               NaN            NaN   \n",
       "3  ...               48.0           7.2     serosanguious            5.3   \n",
       "4  ...               74.0           7.4               NaN            NaN   \n",
       "5  ...                NaN           NaN               NaN            NaN   \n",
       "6  ...               37.0           7.0               NaN            NaN   \n",
       "7  ...               44.0           8.3               NaN            NaN   \n",
       "8  ...               38.0           6.2               NaN            NaN   \n",
       "9  ...               40.0           6.2             clear            2.2   \n",
       "\n",
       "      outcome  surgical_lesion lesion_1 lesion_2  lesion_3  cp_data  \n",
       "0        died               no    11300        0         0       no  \n",
       "1  euthanized               no     2208        0         0       no  \n",
       "2       lived               no        0        0         0      yes  \n",
       "3        died              yes     2208        0         0      yes  \n",
       "4        died               no     4300        0         0       no  \n",
       "5       lived               no        0        0         0       no  \n",
       "6       lived              yes     3124        0         0       no  \n",
       "7        died              yes     2208        0         0       no  \n",
       "8  euthanized              yes     3205        0         0       no  \n",
       "9       lived               no        0        0         0      yes  \n",
       "\n",
       "[10 rows x 28 columns]"
      ]
     },
     "execution_count": 4,
     "metadata": {},
     "output_type": "execute_result"
    }
   ],
   "source": [
    "#Visualizando os 10 primeiros valores do dataset\n",
    "df.head(10)"
   ]
  },
  {
   "cell_type": "code",
   "execution_count": 5,
   "metadata": {},
   "outputs": [
    {
     "data": {
      "text/html": [
       "<div>\n",
       "<style scoped>\n",
       "    .dataframe tbody tr th:only-of-type {\n",
       "        vertical-align: middle;\n",
       "    }\n",
       "\n",
       "    .dataframe tbody tr th {\n",
       "        vertical-align: top;\n",
       "    }\n",
       "\n",
       "    .dataframe thead th {\n",
       "        text-align: right;\n",
       "    }\n",
       "</style>\n",
       "<table border=\"1\" class=\"dataframe\">\n",
       "  <thead>\n",
       "    <tr style=\"text-align: right;\">\n",
       "      <th></th>\n",
       "      <th>hospital_number</th>\n",
       "      <th>rectal_temp</th>\n",
       "      <th>pulse</th>\n",
       "      <th>respiratory_rate</th>\n",
       "      <th>nasogastric_reflux_ph</th>\n",
       "      <th>packed_cell_volume</th>\n",
       "      <th>total_protein</th>\n",
       "      <th>abdomo_protein</th>\n",
       "      <th>lesion_1</th>\n",
       "      <th>lesion_2</th>\n",
       "      <th>lesion_3</th>\n",
       "    </tr>\n",
       "  </thead>\n",
       "  <tbody>\n",
       "    <tr>\n",
       "      <th>count</th>\n",
       "      <td>2.990000e+02</td>\n",
       "      <td>239.000000</td>\n",
       "      <td>275.000000</td>\n",
       "      <td>241.000000</td>\n",
       "      <td>53.000000</td>\n",
       "      <td>270.000000</td>\n",
       "      <td>266.000000</td>\n",
       "      <td>101.000000</td>\n",
       "      <td>299.000000</td>\n",
       "      <td>299.000000</td>\n",
       "      <td>299.000000</td>\n",
       "    </tr>\n",
       "    <tr>\n",
       "      <th>mean</th>\n",
       "      <td>1.087733e+06</td>\n",
       "      <td>38.168619</td>\n",
       "      <td>72.000000</td>\n",
       "      <td>30.460581</td>\n",
       "      <td>4.707547</td>\n",
       "      <td>46.307407</td>\n",
       "      <td>24.274436</td>\n",
       "      <td>3.039604</td>\n",
       "      <td>3659.709030</td>\n",
       "      <td>90.528428</td>\n",
       "      <td>7.387960</td>\n",
       "    </tr>\n",
       "    <tr>\n",
       "      <th>std</th>\n",
       "      <td>1.532032e+06</td>\n",
       "      <td>0.733744</td>\n",
       "      <td>28.646219</td>\n",
       "      <td>17.666102</td>\n",
       "      <td>1.982311</td>\n",
       "      <td>10.436743</td>\n",
       "      <td>27.364194</td>\n",
       "      <td>1.967947</td>\n",
       "      <td>5408.472421</td>\n",
       "      <td>650.637139</td>\n",
       "      <td>127.749768</td>\n",
       "    </tr>\n",
       "    <tr>\n",
       "      <th>min</th>\n",
       "      <td>5.184760e+05</td>\n",
       "      <td>35.400000</td>\n",
       "      <td>30.000000</td>\n",
       "      <td>8.000000</td>\n",
       "      <td>1.000000</td>\n",
       "      <td>23.000000</td>\n",
       "      <td>3.300000</td>\n",
       "      <td>0.100000</td>\n",
       "      <td>0.000000</td>\n",
       "      <td>0.000000</td>\n",
       "      <td>0.000000</td>\n",
       "    </tr>\n",
       "    <tr>\n",
       "      <th>25%</th>\n",
       "      <td>5.289040e+05</td>\n",
       "      <td>37.800000</td>\n",
       "      <td>48.000000</td>\n",
       "      <td>18.000000</td>\n",
       "      <td>3.000000</td>\n",
       "      <td>38.000000</td>\n",
       "      <td>6.500000</td>\n",
       "      <td>2.000000</td>\n",
       "      <td>2111.500000</td>\n",
       "      <td>0.000000</td>\n",
       "      <td>0.000000</td>\n",
       "    </tr>\n",
       "    <tr>\n",
       "      <th>50%</th>\n",
       "      <td>5.303010e+05</td>\n",
       "      <td>38.200000</td>\n",
       "      <td>64.000000</td>\n",
       "      <td>25.000000</td>\n",
       "      <td>5.000000</td>\n",
       "      <td>45.000000</td>\n",
       "      <td>7.500000</td>\n",
       "      <td>2.300000</td>\n",
       "      <td>2322.000000</td>\n",
       "      <td>0.000000</td>\n",
       "      <td>0.000000</td>\n",
       "    </tr>\n",
       "    <tr>\n",
       "      <th>75%</th>\n",
       "      <td>5.347360e+05</td>\n",
       "      <td>38.500000</td>\n",
       "      <td>88.000000</td>\n",
       "      <td>36.000000</td>\n",
       "      <td>6.500000</td>\n",
       "      <td>52.000000</td>\n",
       "      <td>56.750000</td>\n",
       "      <td>3.900000</td>\n",
       "      <td>3209.000000</td>\n",
       "      <td>0.000000</td>\n",
       "      <td>0.000000</td>\n",
       "    </tr>\n",
       "    <tr>\n",
       "      <th>max</th>\n",
       "      <td>5.305629e+06</td>\n",
       "      <td>40.800000</td>\n",
       "      <td>184.000000</td>\n",
       "      <td>96.000000</td>\n",
       "      <td>7.500000</td>\n",
       "      <td>75.000000</td>\n",
       "      <td>89.000000</td>\n",
       "      <td>10.100000</td>\n",
       "      <td>41110.000000</td>\n",
       "      <td>7111.000000</td>\n",
       "      <td>2209.000000</td>\n",
       "    </tr>\n",
       "  </tbody>\n",
       "</table>\n",
       "</div>"
      ],
      "text/plain": [
       "       hospital_number  rectal_temp       pulse  respiratory_rate  \\\n",
       "count     2.990000e+02   239.000000  275.000000        241.000000   \n",
       "mean      1.087733e+06    38.168619   72.000000         30.460581   \n",
       "std       1.532032e+06     0.733744   28.646219         17.666102   \n",
       "min       5.184760e+05    35.400000   30.000000          8.000000   \n",
       "25%       5.289040e+05    37.800000   48.000000         18.000000   \n",
       "50%       5.303010e+05    38.200000   64.000000         25.000000   \n",
       "75%       5.347360e+05    38.500000   88.000000         36.000000   \n",
       "max       5.305629e+06    40.800000  184.000000         96.000000   \n",
       "\n",
       "       nasogastric_reflux_ph  packed_cell_volume  total_protein  \\\n",
       "count              53.000000          270.000000     266.000000   \n",
       "mean                4.707547           46.307407      24.274436   \n",
       "std                 1.982311           10.436743      27.364194   \n",
       "min                 1.000000           23.000000       3.300000   \n",
       "25%                 3.000000           38.000000       6.500000   \n",
       "50%                 5.000000           45.000000       7.500000   \n",
       "75%                 6.500000           52.000000      56.750000   \n",
       "max                 7.500000           75.000000      89.000000   \n",
       "\n",
       "       abdomo_protein      lesion_1     lesion_2     lesion_3  \n",
       "count      101.000000    299.000000   299.000000   299.000000  \n",
       "mean         3.039604   3659.709030    90.528428     7.387960  \n",
       "std          1.967947   5408.472421   650.637139   127.749768  \n",
       "min          0.100000      0.000000     0.000000     0.000000  \n",
       "25%          2.000000   2111.500000     0.000000     0.000000  \n",
       "50%          2.300000   2322.000000     0.000000     0.000000  \n",
       "75%          3.900000   3209.000000     0.000000     0.000000  \n",
       "max         10.100000  41110.000000  7111.000000  2209.000000  "
      ]
     },
     "execution_count": 5,
     "metadata": {},
     "output_type": "execute_result"
    }
   ],
   "source": [
    "#Resumo estatístico do df\n",
    "df.describe()"
   ]
  },
  {
   "cell_type": "code",
   "execution_count": 6,
   "metadata": {},
   "outputs": [
    {
     "data": {
      "text/plain": [
       "surgery                    0\n",
       "age                        0\n",
       "hospital_number            0\n",
       "rectal_temp               60\n",
       "pulse                     24\n",
       "respiratory_rate          58\n",
       "temp_of_extremities       56\n",
       "peripheral_pulse          69\n",
       "mucous_membrane           47\n",
       "capillary_refill_time     32\n",
       "pain                      55\n",
       "peristalsis               44\n",
       "abdominal_distention      56\n",
       "nasogastric_tube         104\n",
       "nasogastric_reflux       106\n",
       "nasogastric_reflux_ph    246\n",
       "rectal_exam_feces        102\n",
       "abdomen                  118\n",
       "packed_cell_volume        29\n",
       "total_protein             33\n",
       "abdomo_appearance        165\n",
       "abdomo_protein           198\n",
       "outcome                    0\n",
       "surgical_lesion            0\n",
       "lesion_1                   0\n",
       "lesion_2                   0\n",
       "lesion_3                   0\n",
       "cp_data                    0\n",
       "dtype: int64"
      ]
     },
     "execution_count": 6,
     "metadata": {},
     "output_type": "execute_result"
    }
   ],
   "source": [
    "#Conferindo a quantidade de nulos nas colunas\n",
    "df.isnull().sum()"
   ]
  },
  {
   "cell_type": "code",
   "execution_count": 7,
   "metadata": {},
   "outputs": [
    {
     "data": {
      "text/plain": [
       "<matplotlib.axes._subplots.AxesSubplot at 0x23136817940>"
      ]
     },
     "execution_count": 7,
     "metadata": {},
     "output_type": "execute_result"
    },
    {
     "data": {
      "image/png": "[encoded data removed]",
      "text/plain": [
       "<Figure size 432x288 with 1 Axes>"
      ]
     },
     "metadata": {
      "needs_background": "light"
     },
     "output_type": "display_data"
    }
   ],
   "source": [
    "#Visualizando os valores missing (nulos)\n",
    "sns.heatmap(df.isnull(),yticklabels=False,cbar=False,cmap='viridis')"
   ]
  },
  {
   "cell_type": "code",
   "execution_count": 8,
   "metadata": {},
   "outputs": [
    {
     "data": {
      "text/plain": [
       "<matplotlib.axes._subplots.AxesSubplot at 0x23136b5cba8>"
      ]
     },
     "execution_count": 8,
     "metadata": {},
     "output_type": "execute_result"
    },
    {
     "data": {
      "image/png": "[encoded data removed]",
      "text/plain": [
       "<Figure size 432x288 with 1 Axes>"
      ]
     },
     "metadata": {
      "needs_background": "light"
     },
     "output_type": "display_data"
    }
   ],
   "source": [
    "#Contagem dos cavalos\n",
    "sns.countplot(x='age',data=df)"
   ]
  },
  {
   "cell_type": "code",
   "execution_count": 9,
   "metadata": {},
   "outputs": [
    {
     "data": {
      "text/plain": [
       "<matplotlib.axes._subplots.AxesSubplot at 0x23136b5c160>"
      ]
     },
     "execution_count": 9,
     "metadata": {},
     "output_type": "execute_result"
    },
    {
     "data": {
      "image/png": "[encoded data removed]",
      "text/plain": [
       "<Figure size 432x288 with 1 Axes>"
      ]
     },
     "metadata": {},
     "output_type": "display_data"
    }
   ],
   "source": [
    "#Visualização da contagem de cavalos que sobreviveram \n",
    "sns.set_style('whitegrid')\n",
    "sns.countplot(x='outcome',data=df,palette='inferno')"
   ]
  },
  {
   "cell_type": "code",
   "execution_count": 10,
   "metadata": {},
   "outputs": [
    {
     "data": {
      "text/plain": [
       "<matplotlib.axes._subplots.AxesSubplot at 0x23136c32400>"
      ]
     },
     "execution_count": 10,
     "metadata": {},
     "output_type": "execute_result"
    },
    {
     "data": {
      "image/png": "[encoded data removed]",
      "text/plain": [
       "<Figure size 432x288 with 1 Axes>"
      ]
     },
     "metadata": {},
     "output_type": "display_data"
    }
   ],
   "source": [
    "#Visualização dos cavalos que sobreviveram separado pela idade\n",
    "sns.set_style('whitegrid')\n",
    "sns.countplot(x='outcome',hue='age',data=df,palette='RdBu_r')"
   ]
  },
  {
   "cell_type": "code",
   "execution_count": 11,
   "metadata": {},
   "outputs": [
    {
     "data": {
      "text/plain": [
       "<matplotlib.axes._subplots.AxesSubplot at 0x23136d0ef28>"
      ]
     },
     "execution_count": 11,
     "metadata": {},
     "output_type": "execute_result"
    },
    {
     "data": {
      "image/png": "[encoded data removed]",
      "text/plain": [
       "<Figure size 432x288 with 1 Axes>"
      ]
     },
     "metadata": {},
     "output_type": "display_data"
    }
   ],
   "source": [
    "#Visualização dos cavalos que fizeram cirurgia\n",
    "sns.set_style('whitegrid')\n",
    "sns.countplot(x='outcome',hue='surgery',data=df,palette='copper')"
   ]
  },
  {
   "cell_type": "code",
   "execution_count": 12,
   "metadata": {},
   "outputs": [
    {
     "name": "stderr",
     "output_type": "stream",
     "text": [
      "C:\\Users\\guilh\\Anaconda3\\lib\\site-packages\\seaborn\\categorical.py:1324: RuntimeWarning: invalid value encountered in less\n",
      "  off_low = points < low_gutter\n",
      "C:\\Users\\guilh\\Anaconda3\\lib\\site-packages\\seaborn\\categorical.py:1328: RuntimeWarning: invalid value encountered in greater\n",
      "  off_high = points > high_gutter\n"
     ]
    },
    {
     "data": {
      "text/plain": [
       "<matplotlib.axes._subplots.AxesSubplot at 0x23136d4cc18>"
      ]
     },
     "execution_count": 12,
     "metadata": {},
     "output_type": "execute_result"
    },
    {
     "data": {
      "image/png": "[encoded data removed]",
      "text/plain": [
       "<Figure size 432x288 with 1 Axes>"
      ]
     },
     "metadata": {},
     "output_type": "display_data"
    }
   ],
   "source": [
    "#plt.figure(figsize=(11, 7)) -- Aumentar o tamanho \n",
    "\n",
    "#Visualização da temperatura retal (em graus celsius) e das extremidades\n",
    "sns.violinplot(x=\"rectal_temp\", y=\"temp_of_extremities\", data=df,palette='viridis')\n",
    "sns.swarmplot(x=\"rectal_temp\", y=\"temp_of_extremities\", data=df,color='white',size=3)"
   ]
  },
  {
   "cell_type": "code",
   "execution_count": 13,
   "metadata": {},
   "outputs": [
    {
     "data": {
      "text/plain": [
       "<matplotlib.axes._subplots.AxesSubplot at 0x23136e46748>"
      ]
     },
     "execution_count": 13,
     "metadata": {},
     "output_type": "execute_result"
    },
    {
     "data": {
      "image/png": "[encoded data removed]",
      "text/plain": [
       "<Figure size 432x288 with 2 Axes>"
      ]
     },
     "metadata": {},
     "output_type": "display_data"
    }
   ],
   "source": [
    "# Correlação das variáveis\n",
    "sns.heatmap(df[['rectal_temp','pulse','respiratory_rate',\n",
    "                'nasogastric_reflux_ph','packed_cell_volume',\n",
    "                'total_protein','abdomo_protein']].corr(),cmap='magma',\n",
    "            linecolor='white',linewidths=1)"
   ]
  },
  {
   "cell_type": "code",
   "execution_count": 14,
   "metadata": {},
   "outputs": [],
   "source": [
    "#Criando uma nova coluna no dataset para melhor visualização do plot de regressão\n",
    "\n",
    "df['outcome_visu'] = [\"Não sobreviveu\" if x=='died'or x=='euthanized' else \"Sobreviveu\"\n",
    "                      for x in df['outcome']]"
   ]
  },
  {
   "cell_type": "code",
   "execution_count": 15,
   "metadata": {},
   "outputs": [
    {
     "data": {
      "text/plain": [
       "<seaborn.axisgrid.FacetGrid at 0x231367df588>"
      ]
     },
     "execution_count": 15,
     "metadata": {},
     "output_type": "execute_result"
    },
    {
     "data": {
      "image/png": "[encoded data removed]",
      "text/plain": [
       "<Figure size 720x360 with 2 Axes>"
      ]
     },
     "metadata": {},
     "output_type": "display_data"
    }
   ],
   "source": [
    "# Visualizando a regressão de sobreviventes por pulso e glóbulos vermelhos\n",
    "sns.lmplot(x='pulse',y='packed_cell_volume',data=df,col='outcome_visu')"
   ]
  },
  {
   "cell_type": "markdown",
   "metadata": {},
   "source": [
    "# Até aqui podemos concluir que:\n",
    "    - 59% dos cavalos sobreviveram\n",
    "    - 92% dos cavalos são adultos e 8% jovem (menos de 6 meses)\n",
    "    - Dos cavalos jovens, praticamente metade não sobreviveram\n",
    "    - Dentre os sobreviventes, o número é maior quando o cavalo não teve de passar por nenhuma cirurgia\n",
    "    - Dentre os que faleceram, o número é maior quando o cavalo teve de fazer uma ou mais cirurgias\n",
    "    - Em relação a 'rectal_temp' (temperatura retal em graus celsius) o valor normal é 37,8. Quando um cavalo está abaixo desta temperatura ele pode ter choque circulatório e quando está acima pode ter uma infecção. Vimos que poucos cavalos está na temperatura ideal\n",
    "    - Em relação a 'temp_of_extremities' (temperatura das extremidades) cool e cold indicam possível choque circulatório, já warm se correlaciona com uma temperatira retal elevada\n",
    "    - Cavalos com um pulso elevado (frequência de batimentos por minuto) são os que provavelmente vão ter lesões ou algum problema de choque circulatório, vindo a falecer\n",
    "    - Cavalos com um número de glóbulos vermelhos entre 30 e 50 são mais prováveis a sobreviver, os que passam deste número fatalmente podem ficar desidratados ou até falecer"
   ]
  },
  {
   "cell_type": "markdown",
   "metadata": {},
   "source": [
    "# Tratamento dos dados nulos"
   ]
  },
  {
   "cell_type": "code",
   "execution_count": 16,
   "metadata": {},
   "outputs": [
    {
     "name": "stdout",
     "output_type": "stream",
     "text": [
      "A quantidade de valores duplicados é:  16\n"
     ]
    },
    {
     "data": {
      "text/plain": [
       "'\\nExistem 16 valores duplicados, analisando o dataset desses 16 cavalos que tiveram passagem mais de uma \\nvez pelo hospital 6 morreram e 10 estão vivos.\\nA coluna ID_hospital não irá entrar no modelo de aprendizado de máquina\\n'"
      ]
     },
     "execution_count": 16,
     "metadata": {},
     "output_type": "execute_result"
    }
   ],
   "source": [
    "#Coluna do hospital\n",
    "#o número do caso atribuído ao cavalo (pode não ser único se o cavalo for tratado> 1 vez)\n",
    "\n",
    "cont = df['hospital_number'].value_counts()>1\n",
    "a = list(cont)\n",
    "conta = 0\n",
    "for x in a:\n",
    "    if x == True:\n",
    "        conta = conta +1\n",
    "print(\"A quantidade de valores duplicados é: \", conta)\n",
    "\n",
    "\"\"\"\n",
    "Existem 16 valores duplicados, analisando o dataset desses 16 cavalos que tiveram passagem mais de uma \n",
    "vez pelo hospital 6 morreram e 10 estão vivos.\n",
    "A coluna ID_hospital não irá entrar no modelo de aprendizado de máquina\n",
    "\"\"\""
   ]
  },
  {
   "cell_type": "markdown",
   "metadata": {},
   "source": [
    "# Variáveis numéricas "
   ]
  },
  {
   "cell_type": "code",
   "execution_count": 17,
   "metadata": {},
   "outputs": [],
   "source": [
    "# Coluna temperatura retal \n",
    "##Preenchendo os valores nulos de temperatura com a média dos grupos de idade \n",
    "\n",
    "df['rectal_temp'] = df['rectal_temp'].groupby(df['age']).apply(lambda x: x.fillna(x.median()))"
   ]
  },
  {
   "cell_type": "code",
   "execution_count": 18,
   "metadata": {},
   "outputs": [],
   "source": [
    "# Coluna pulse\n",
    "##Preenchendo os valores nulos de pulso com a média dos grupos de idade \n",
    "\n",
    "df['pulse'] = df['pulse'].groupby(df['age']).apply(lambda x: x.fillna(x.median()))"
   ]
  },
  {
   "cell_type": "code",
   "execution_count": 19,
   "metadata": {},
   "outputs": [
    {
     "data": {
      "image/png": "[encoded data removed]",
      "text/plain": [
       "<Figure size 432x288 with 1 Axes>"
      ]
     },
     "metadata": {},
     "output_type": "display_data"
    }
   ],
   "source": [
    "#Coluna frequência respiratória\n",
    "\n",
    "\"\"\"Os valores normais estão entre 8 e 10, por isso esta variável se torna um pouco duvidosa \n",
    "de se utilizar, pois tem um grande volume de flutuação, podemos ver isso no histograma abaixo\"\"\"\n",
    "\n",
    "df['respiratory_rate'].hist(bins=30)\n",
    "df['respiratory_rate'] = df['respiratory_rate'].groupby(df['age']).apply(lambda x: x.fillna(x.median()))"
   ]
  },
  {
   "cell_type": "code",
   "execution_count": 20,
   "metadata": {},
   "outputs": [],
   "source": [
    "# Coluna refluxo nasogástrico PH\n",
    "\n",
    "df['nasogastric_reflux_ph'] = df['nasogastric_reflux_ph'].groupby(df['age']).apply(lambda x: x.fillna(x.median()))"
   ]
  },
  {
   "cell_type": "code",
   "execution_count": 21,
   "metadata": {},
   "outputs": [],
   "source": [
    "#Coluna Volume de células compactadas\n",
    "\n",
    "df['packed_cell_volume'] = df['packed_cell_volume'].groupby(df['age']).apply(lambda x: x.fillna(x.median()))"
   ]
  },
  {
   "cell_type": "code",
   "execution_count": 22,
   "metadata": {},
   "outputs": [],
   "source": [
    "#Coluna Proteína total \n",
    "\n",
    "df['total_protein'] = df['total_protein'].groupby(df['age']).apply(lambda x: x.fillna(x.median()))"
   ]
  },
  {
   "cell_type": "code",
   "execution_count": 23,
   "metadata": {},
   "outputs": [],
   "source": [
    "#Colune Proteína total de abdomcentese\n",
    "\n",
    "df['abdomo_protein'] = df['abdomo_protein'].groupby(df['age']).apply(lambda x: x.fillna(x.median()))"
   ]
  },
  {
   "cell_type": "markdown",
   "metadata": {},
   "source": [
    "# Variáveis categóricas\n",
    " - Para colunas categórias o preenchimento dos valores missing é o que mais se repete na coluna"
   ]
  },
  {
   "cell_type": "code",
   "execution_count": 24,
   "metadata": {},
   "outputs": [],
   "source": [
    "#Coluna temperatura das extremidades\n",
    "\n",
    "#df['temp_of_extremities'].value_counts()\n",
    "df['temp_of_extremities'].fillna(\"cool\", inplace = True)"
   ]
  },
  {
   "cell_type": "code",
   "execution_count": 25,
   "metadata": {},
   "outputs": [],
   "source": [
    "#Coluna pulso periférico\n",
    "\n",
    "#df['peripheral_pulse'].value_counts()\n",
    "df['peripheral_pulse'].fillna(\"normal\", inplace = True)"
   ]
  },
  {
   "cell_type": "code",
   "execution_count": 26,
   "metadata": {},
   "outputs": [],
   "source": [
    "#Coluna membranas mucosas\n",
    "\n",
    "#df['mucous_membrane'].value_counts()\n",
    "df['mucous_membrane'].fillna(\"normal_pink\",inplace = True)"
   ]
  },
  {
   "cell_type": "code",
   "execution_count": 27,
   "metadata": {},
   "outputs": [],
   "source": [
    "# Coluna Tempo de recarga capilar\n",
    "\n",
    "#df['capillary_refill_time'].value_counts()\n",
    "df['capillary_refill_time'].fillna(\"less_3_sec\",inplace = True)"
   ]
  },
  {
   "cell_type": "code",
   "execution_count": 28,
   "metadata": {},
   "outputs": [],
   "source": [
    "# Coluna dor\n",
    "\n",
    "#df['pain'].value_counts()\n",
    "df['pain'].fillna(\"mild_pain\", inplace = True)"
   ]
  },
  {
   "cell_type": "code",
   "execution_count": 29,
   "metadata": {},
   "outputs": [],
   "source": [
    "# Coluna Peristaltismo \n",
    "\n",
    "#df['peristalsis'].value_counts()\n",
    "df['peristalsis'].fillna(\"hypomotile\",inplace = True)"
   ]
  },
  {
   "cell_type": "code",
   "execution_count": 30,
   "metadata": {},
   "outputs": [],
   "source": [
    "# Coluna Distensão abdominal (abdominal distension)\n",
    "\n",
    "#df['abdominal_distention'].value_counts()\n",
    "df['abdominal_distention'].fillna(\"none\",inplace = True)"
   ]
  },
  {
   "cell_type": "code",
   "execution_count": 31,
   "metadata": {},
   "outputs": [],
   "source": [
    "# Coluna Sonda nasogástrica (nasogastric tube )\n",
    "\n",
    "#df['nasogastric_tube'].value_counts()\n",
    "df['nasogastric_tube'].fillna(\"slight\", inplace=True)"
   ]
  },
  {
   "cell_type": "code",
   "execution_count": 32,
   "metadata": {},
   "outputs": [],
   "source": [
    "#Coluna Refluxo nasogástrico (nasogastric reflux )\n",
    "\n",
    "#df['nasogastric_reflux'].value_counts()\n",
    "df['nasogastric_reflux'].fillna(\"none\",inplace = True)"
   ]
  },
  {
   "cell_type": "code",
   "execution_count": 33,
   "metadata": {},
   "outputs": [],
   "source": [
    "# Coluna Exame retal-fezes (rectal_examination - feces)\n",
    "\n",
    "#df['rectal_exam_feces'].value_counts()\n",
    "df['rectal_exam_feces'].fillna(\"absent\", inplace=True)"
   ]
  },
  {
   "cell_type": "code",
   "execution_count": 34,
   "metadata": {},
   "outputs": [],
   "source": [
    "# Coluna Abdômen (abdomen)\n",
    "\n",
    "#df['abdomen'].value_counts()\n",
    "df['abdomen'].fillna(\"distend_large\",inplace=True)"
   ]
  },
  {
   "cell_type": "code",
   "execution_count": 35,
   "metadata": {},
   "outputs": [],
   "source": [
    "#Coluna Aparência de abdominocentese (abdominocentesis appearance)\n",
    "\n",
    "#df['abdomo_appearance'].value_counts()\n",
    "df['abdomo_appearance'].fillna(\"cloudy\",inplace = True)"
   ]
  },
  {
   "cell_type": "code",
   "execution_count": 36,
   "metadata": {},
   "outputs": [
    {
     "data": {
      "text/plain": [
       "<matplotlib.axes._subplots.AxesSubplot at 0x23136d4c048>"
      ]
     },
     "execution_count": 36,
     "metadata": {},
     "output_type": "execute_result"
    },
    {
     "data": {
      "image/png": "[encoded data removed]",
      "text/plain": [
       "<Figure size 432x288 with 1 Axes>"
      ]
     },
     "metadata": {},
     "output_type": "display_data"
    }
   ],
   "source": [
    "#Visualizando os valores missing (nulos)\n",
    "sns.heatmap(df.isnull(),yticklabels=False,cbar=False,cmap='viridis')"
   ]
  },
  {
   "cell_type": "markdown",
   "metadata": {},
   "source": [
    "# Tratamento das variáveis categóricas para o modelo de machine learning"
   ]
  },
  {
   "cell_type": "code",
   "execution_count": 37,
   "metadata": {},
   "outputs": [],
   "source": [
    "#Coluna cirurgia, alvo e lesão na cirurgia \n",
    "\n",
    "df['surgery'] = [1 if x =='no' else 0 for x in df['surgery']]\n",
    "df['outcome'] = [0 if x=='died'or x=='euthanized' else 1 for x in df['outcome']]\n",
    "df['surgical_lesion'] = [1 if x == 'no' else 0 for x in df['surgical_lesion']]"
   ]
  },
  {
   "cell_type": "markdown",
   "metadata": {},
   "source": [
    "# - One Hot Encoder"
   ]
  },
  {
   "cell_type": "code",
   "execution_count": 38,
   "metadata": {},
   "outputs": [],
   "source": [
    "from category_encoders.one_hot import OneHotEncoder"
   ]
  },
  {
   "cell_type": "code",
   "execution_count": 39,
   "metadata": {},
   "outputs": [],
   "source": [
    "enc = OneHotEncoder(cols=['age', 'temp_of_extremities', 'peripheral_pulse', 'mucous_membrane',\n",
    "                          'capillary_refill_time', 'pain', 'peristalsis',\n",
    "                          'abdominal_distention','nasogastric_tube','nasogastric_reflux',\n",
    "                         'rectal_exam_feces','abdomen','abdomo_appearance'], use_cat_names=True)\n",
    "df_tratado = enc.fit_transform(df)"
   ]
  },
  {
   "cell_type": "code",
   "execution_count": 40,
   "metadata": {},
   "outputs": [],
   "source": [
    "#Excluindo as colunas que não vão entrar no modelo\n",
    "df_tratado.drop(columns=['lesion_1','lesion_2','lesion_3','hospital_number','respiratory_rate','cp_data','outcome_visu'], inplace=True)"
   ]
  },
  {
   "cell_type": "markdown",
   "metadata": {},
   "source": [
    "# Validação cruzada"
   ]
  },
  {
   "cell_type": "code",
   "execution_count": 41,
   "metadata": {},
   "outputs": [],
   "source": [
    "from sklearn.model_selection import RepeatedKFold\n",
    "X = df_tratado.drop('outcome',axis=1)\n",
    "y = df_tratado['outcome']"
   ]
  },
  {
   "cell_type": "code",
   "execution_count": 42,
   "metadata": {},
   "outputs": [],
   "source": [
    "#Bibliotecas dos algoritmos\n",
    "\n",
    "from sklearn.linear_model import LogisticRegression\n",
    "from sklearn.tree import DecisionTreeClassifier\n",
    "from sklearn.ensemble import RandomForestClassifier\n",
    "from lightgbm import LGBMClassifier\n",
    "from xgboost import XGBClassifier\n",
    "import warnings\n",
    "warnings.filterwarnings(\"ignore\")"
   ]
  },
  {
   "cell_type": "code",
   "execution_count": 43,
   "metadata": {},
   "outputs": [
    {
     "name": "stdout",
     "output_type": "stream",
     "text": [
      "Sua precisão foi: 0.7364377104377103\n"
     ]
    }
   ],
   "source": [
    "kf = RepeatedKFold (n_splits = 3, n_repeats = 5, random_state=0)\n",
    "resultados = []\n",
    "for linhas_treino, linhas_teste in kf.split(X):\n",
    "    #print(\"Treino:\", linhas_treino.shape[0])\n",
    "    #print(\"Valid:\", linhas_valid.shape[0])\n",
    "\n",
    "    X_train, X_test = X.iloc[linhas_treino],X.iloc[linhas_teste]\n",
    "    y_train, y_test = y.iloc[linhas_treino],y.iloc[linhas_teste]\n",
    "\n",
    "    #modelo1 = LogisticRegression()\n",
    "    #modelo2 = DecisionTreeClassifier()\n",
    "    #modelo3= RandomForestClassifier(n_estimators = 100, n_jobs=5, random_state=0)\n",
    "    modelo4 = XGBClassifier()\n",
    "    #modelo5 = LGBMClassifier(learning_rate=0.024,num_leaves=45,min_child_samples=7,subsample=0.76,colsample_bytree=0.77)\n",
    "    \n",
    "    modelo4.fit(X_train,y_train)\n",
    "    pred =  modelo4.predict(X_test)\n",
    "    acuracia = np.mean(y_test == pred)\n",
    "    resultados.append(acuracia)\n",
    "print(\"Sua precisão foi:\", np.mean(resultados))"
   ]
  },
  {
   "cell_type": "markdown",
   "metadata": {},
   "source": [
    "# Resultados da validação cruzada\n",
    "\n",
    "- Regressão logística: 0.717\n",
    "- Árvore de decisão: 0.65\n",
    "- Floresta aleatória: 0.733\n",
    "- XGBOOST: 0.736\n",
    "- LGBM: 0.733"
   ]
  },
  {
   "cell_type": "markdown",
   "metadata": {},
   "source": [
    "# Divisão treino e teste"
   ]
  },
  {
   "cell_type": "code",
   "execution_count": 59,
   "metadata": {},
   "outputs": [],
   "source": [
    "from sklearn.metrics import classification_report,confusion_matrix, accuracy_score"
   ]
  },
  {
   "cell_type": "code",
   "execution_count": 55,
   "metadata": {},
   "outputs": [],
   "source": [
    "from sklearn.model_selection import train_test_split\n",
    "X_train, X_test, y_train, y_test = train_test_split(df_tratado.drop('outcome',axis=1), \n",
    "                                                    df_tratado['outcome'], test_size=0.50, random_state=0)"
   ]
  },
  {
   "cell_type": "code",
   "execution_count": 56,
   "metadata": {},
   "outputs": [],
   "source": [
    "Xg = XGBClassifier(learning_rate=0.01,n_estimators=280,max_depth=4,subsample=0.9,colsample_bytree=0.5)\n",
    "Xg.fit(X_train, y_train)\n",
    "Xg_predict = Xg.predict(X_test)"
   ]
  },
  {
   "cell_type": "code",
   "execution_count": 57,
   "metadata": {},
   "outputs": [
    {
     "name": "stdout",
     "output_type": "stream",
     "text": [
      "              precision    recall  f1-score   support\n",
      "\n",
      "           0       0.77      0.66      0.71        61\n",
      "           1       0.79      0.87      0.82        89\n",
      "\n",
      "    accuracy                           0.78       150\n",
      "   macro avg       0.78      0.76      0.77       150\n",
      "weighted avg       0.78      0.78      0.78       150\n",
      "\n"
     ]
    }
   ],
   "source": [
    "print(classification_report(y_test,Xg_predict))"
   ]
  },
  {
   "cell_type": "code",
   "execution_count": 58,
   "metadata": {},
   "outputs": [
    {
     "name": "stdout",
     "output_type": "stream",
     "text": [
      "[[40 21]\n",
      " [12 77]]\n"
     ]
    }
   ],
   "source": [
    "print(confusion_matrix(y_test,Xg_predict))"
   ]
  },
  {
   "cell_type": "markdown",
   "metadata": {},
   "source": [
    "# Resultado de precisão final "
   ]
  },
  {
   "cell_type": "code",
   "execution_count": 61,
   "metadata": {},
   "outputs": [
    {
     "name": "stdout",
     "output_type": "stream",
     "text": [
      "Acurácia: 78.00%\n"
     ]
    }
   ],
   "source": [
    "accuracy = accuracy_score(y_test, Xg_predict)\n",
    "print(\"Acurácia: %.2f%%\" % (accuracy * 100.0))"
   ]
  },
  {
   "cell_type": "markdown",
   "metadata": {},
   "source": [
    "# Hiperparâmetro XGBOOST"
   ]
  },
  {
   "cell_type": "code",
   "execution_count": 49,
   "metadata": {},
   "outputs": [],
   "source": [
    "from sklearn.metrics import roc_auc_score\n",
    "from skopt import dummy_minimize"
   ]
  },
  {
   "cell_type": "code",
   "execution_count": 50,
   "metadata": {},
   "outputs": [
    {
     "name": "stdout",
     "output_type": "stream",
     "text": [
      "Iteration No: 1 started. Evaluating function at random point.\n",
      "Iteration No: 1 ended. Evaluation done at random point.\n",
      "Time taken: 0.2204\n",
      "Function value obtained: -0.8635\n",
      "Current minimum: -0.8635\n",
      "Iteration No: 2 started. Evaluating function at random point.\n",
      "Iteration No: 2 ended. Evaluation done at random point.\n",
      "Time taken: 0.2414\n",
      "Function value obtained: -0.8543\n",
      "Current minimum: -0.8635\n",
      "Iteration No: 3 started. Evaluating function at random point.\n",
      "Iteration No: 3 ended. Evaluation done at random point.\n",
      "Time taken: 0.3072\n",
      "Function value obtained: -0.8178\n",
      "Current minimum: -0.8635\n",
      "Iteration No: 4 started. Evaluating function at random point.\n",
      "Iteration No: 4 ended. Evaluation done at random point.\n",
      "Time taken: 0.0638\n",
      "Function value obtained: -0.7766\n",
      "Current minimum: -0.8635\n",
      "Iteration No: 5 started. Evaluating function at random point.\n",
      "Iteration No: 5 ended. Evaluation done at random point.\n",
      "Time taken: 0.4906\n",
      "Function value obtained: -0.8560\n",
      "Current minimum: -0.8635\n",
      "Iteration No: 6 started. Evaluating function at random point.\n",
      "Iteration No: 6 ended. Evaluation done at random point.\n",
      "Time taken: 0.1337\n",
      "Function value obtained: -0.8256\n",
      "Current minimum: -0.8635\n",
      "Iteration No: 7 started. Evaluating function at random point.\n",
      "Iteration No: 7 ended. Evaluation done at random point.\n",
      "Time taken: 0.2882\n",
      "Function value obtained: -0.8578\n",
      "Current minimum: -0.8635\n",
      "Iteration No: 8 started. Evaluating function at random point.\n",
      "Iteration No: 8 ended. Evaluation done at random point.\n",
      "Time taken: 0.0419\n",
      "Function value obtained: -0.8346\n",
      "Current minimum: -0.8635\n",
      "Iteration No: 9 started. Evaluating function at random point.\n",
      "Iteration No: 9 ended. Evaluation done at random point.\n",
      "Time taken: 0.4798\n",
      "Function value obtained: -0.8482\n",
      "Current minimum: -0.8635\n",
      "Iteration No: 10 started. Evaluating function at random point.\n",
      "Iteration No: 10 ended. Evaluation done at random point.\n",
      "Time taken: 0.1705\n",
      "Function value obtained: -0.8246\n",
      "Current minimum: -0.8635\n",
      "Iteration No: 11 started. Evaluating function at random point.\n",
      "Iteration No: 11 ended. Evaluation done at random point.\n",
      "Time taken: 0.2683\n",
      "Function value obtained: -0.8397\n",
      "Current minimum: -0.8635\n",
      "Iteration No: 12 started. Evaluating function at random point.\n",
      "Iteration No: 12 ended. Evaluation done at random point.\n",
      "Time taken: 0.3691\n",
      "Function value obtained: -0.8648\n",
      "Current minimum: -0.8648\n",
      "Iteration No: 13 started. Evaluating function at random point.\n",
      "Iteration No: 13 ended. Evaluation done at random point.\n",
      "Time taken: 0.0638\n",
      "Function value obtained: -0.8372\n",
      "Current minimum: -0.8648\n",
      "Iteration No: 14 started. Evaluating function at random point.\n",
      "Iteration No: 14 ended. Evaluation done at random point.\n",
      "Time taken: 0.0808\n",
      "Function value obtained: -0.8403\n",
      "Current minimum: -0.8648\n",
      "Iteration No: 15 started. Evaluating function at random point.\n",
      "Iteration No: 15 ended. Evaluation done at random point.\n",
      "Time taken: 0.2005\n",
      "Function value obtained: -0.8285\n",
      "Current minimum: -0.8648\n",
      "Iteration No: 16 started. Evaluating function at random point.\n",
      "Iteration No: 16 ended. Evaluation done at random point.\n",
      "Time taken: 0.0838\n",
      "Function value obtained: -0.8005\n",
      "Current minimum: -0.8648\n",
      "Iteration No: 17 started. Evaluating function at random point.\n",
      "Iteration No: 17 ended. Evaluation done at random point.\n",
      "Time taken: 0.1257\n",
      "Function value obtained: -0.8447\n",
      "Current minimum: -0.8648\n",
      "Iteration No: 18 started. Evaluating function at random point.\n",
      "Iteration No: 18 ended. Evaluation done at random point.\n",
      "Time taken: 0.1497\n",
      "Function value obtained: -0.8175\n",
      "Current minimum: -0.8648\n",
      "Iteration No: 19 started. Evaluating function at random point.\n",
      "Iteration No: 19 ended. Evaluation done at random point.\n",
      "Time taken: 0.4288\n",
      "Function value obtained: -0.8600\n",
      "Current minimum: -0.8648\n",
      "Iteration No: 20 started. Evaluating function at random point.\n",
      "Iteration No: 20 ended. Evaluation done at random point.\n",
      "Time taken: 0.3182\n",
      "Function value obtained: -0.8504\n",
      "Current minimum: -0.8648\n",
      "Iteration No: 21 started. Evaluating function at random point.\n",
      "Iteration No: 21 ended. Evaluation done at random point.\n",
      "Time taken: 0.0438\n",
      "Function value obtained: -0.8283\n",
      "Current minimum: -0.8648\n",
      "Iteration No: 22 started. Evaluating function at random point.\n",
      "Iteration No: 22 ended. Evaluation done at random point.\n",
      "Time taken: 0.5515\n",
      "Function value obtained: -0.8547\n",
      "Current minimum: -0.8648\n",
      "Iteration No: 23 started. Evaluating function at random point.\n",
      "Iteration No: 23 ended. Evaluation done at random point.\n",
      "Time taken: 0.0908\n",
      "Function value obtained: -0.8501\n",
      "Current minimum: -0.8648\n",
      "Iteration No: 24 started. Evaluating function at random point.\n",
      "Iteration No: 24 ended. Evaluation done at random point.\n",
      "Time taken: 0.1735\n",
      "Function value obtained: -0.8455\n",
      "Current minimum: -0.8648\n",
      "Iteration No: 25 started. Evaluating function at random point.\n",
      "Iteration No: 25 ended. Evaluation done at random point.\n",
      "Time taken: 0.1048\n",
      "Function value obtained: -0.8248\n",
      "Current minimum: -0.8648\n",
      "Iteration No: 26 started. Evaluating function at random point.\n",
      "Iteration No: 26 ended. Evaluation done at random point.\n",
      "Time taken: 0.1326\n",
      "Function value obtained: -0.8666\n",
      "Current minimum: -0.8666\n",
      "Iteration No: 27 started. Evaluating function at random point.\n",
      "Iteration No: 27 ended. Evaluation done at random point.\n",
      "Time taken: 0.4139\n",
      "Function value obtained: -0.8456\n",
      "Current minimum: -0.8666\n",
      "Iteration No: 28 started. Evaluating function at random point.\n",
      "Iteration No: 28 ended. Evaluation done at random point.\n",
      "Time taken: 0.2364\n",
      "Function value obtained: -0.8230\n",
      "Current minimum: -0.8666\n",
      "Iteration No: 29 started. Evaluating function at random point.\n",
      "Iteration No: 29 ended. Evaluation done at random point.\n",
      "Time taken: 0.4319\n",
      "Function value obtained: -0.8600\n",
      "Current minimum: -0.8666\n",
      "Iteration No: 30 started. Evaluating function at random point.\n",
      "Iteration No: 30 ended. Evaluation done at random point.\n",
      "Time taken: 0.0678\n",
      "Function value obtained: -0.8195\n",
      "Current minimum: -0.8666\n"
     ]
    }
   ],
   "source": [
    "def treinar_modelo(params):\n",
    "    learning_rate = params[0]\n",
    "    n_estimators = params[1]\n",
    "    max_depth = params[2]\n",
    "    subsample = params[3]\n",
    "    colsample_bytree = params[4]\n",
    "    \n",
    "    xgboost = XGBClassifier(learning_rate=learning_rate, n_estimators=n_estimators,max_depth=max_depth,subsample=subsample,colsample_bytree=colsample_bytree)\n",
    "    xgboost.fit(X_train, y_train)\n",
    "    \n",
    "    pip = xgboost.predict_proba(X_test)[:,1]\n",
    "    \n",
    "    return -roc_auc_score(y_test, pip)\n",
    "\n",
    "space = [(1e-3, 1e-1, 'log-uniform'), #learning rate\n",
    "         (100, 1000), # n_estimators\n",
    "         (1, 5), # max_depth\n",
    "         (0.05, 1.0), # subsample\n",
    "         (0.1, 1.0)] # colsample bytree\n",
    "\n",
    "resultado = dummy_minimize(treinar_modelo, space, random_state=0, verbose=1, n_calls=30)"
   ]
  },
  {
   "cell_type": "code",
   "execution_count": 51,
   "metadata": {},
   "outputs": [
    {
     "data": {
      "text/plain": [
       "[0.013947738988072804, 280, 4, 0.9551115609411358, 0.5024128407558647]"
      ]
     },
     "execution_count": 51,
     "metadata": {},
     "output_type": "execute_result"
    }
   ],
   "source": [
    "resultado.x"
   ]
  }
 ],
 "metadata": {
  "kernelspec": {
   "display_name": "Python 3",
   "language": "python",
   "name": "python3"
  },
  "language_info": {
   "codemirror_mode": {
    "name": "ipython",
    "version": 3
   },
   "file_extension": ".py",
   "mimetype": "text/x-python",
   "name": "python",
   "nbconvert_exporter": "python",
   "pygments_lexer": "ipython3",
   "version": "3.7.3"
  }
 },
 "nbformat": 4,
 "nbformat_minor": 4
}
