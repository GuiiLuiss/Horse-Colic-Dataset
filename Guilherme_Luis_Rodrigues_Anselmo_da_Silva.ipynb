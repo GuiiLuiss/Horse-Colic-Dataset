{
  "nbformat": 4,
  "nbformat_minor": 0,
  "metadata": {
    "colab": {
      "name": "Guilherme_Luis_Rodrigues_Anselmo_da_Silva.ipynb",
      "provenance": [],
      "collapsed_sections": [],
      "authorship_tag": "ABX9TyMM51p9uZhr1tjAyAh/FlCs",
      "include_colab_link": true
    },
    "kernelspec": {
      "name": "python3",
      "display_name": "Python 3"
    }
  },
  "cells": [
    {
      "cell_type": "markdown",
      "metadata": {
        "id": "view-in-github",
        "colab_type": "text"
      },
      "source": [
        "<a href=\"https://colab.research.google.com/github/GuiiLuiss/Horse-Colic-Dataset/blob/master/Guilherme_Luis_Rodrigues_Anselmo_da_Silva.ipynb\" target=\"_parent\"><img src=\"https://colab.research.google.com/assets/colab-badge.svg\" alt=\"Open In Colab\"/></a>"
      ]
    },
    {
      "cell_type": "markdown",
      "metadata": {
        "id": "-GgTjwM9Naf_"
      },
      "source": [
        "**Enem, o vestibular das várias estratégias criadas para dar conta do volume de conteúdos a serem memorizados - Data Science Project**\n"
      ]
    },
    {
      "cell_type": "markdown",
      "metadata": {
        "id": "4q5NlCTDQ8M1"
      },
      "source": [
        "Será que o ano de conclusão do ensino médio afetou diretamente na nota final?\n",
        "O atendimento especializado funciona? Iremos responder essas e outras perguntas utilizando uma amostra de dados reais"
      ]
    },
    {
      "cell_type": "markdown",
      "metadata": {
        "id": "7Www6lTwTK_p"
      },
      "source": [
        "Quando os estudantes fizeram pela primeira vez o Exame Nacional do Ensino Médio (Enem) no ano de 1998, é quase certeza que eles não imaginavam a proporção que este exame ganhou atualmente. Inicialmente com o objetivo de avaliar o desempenho dos estudantes ao final da educação básica, hoje é utilizado para desenvolver estudos e indicadores sobre a educação brasileira, além de ser uma porta de entrada para o ensino superior.\n"
      ]
    },
    {
      "cell_type": "code",
      "metadata": {
        "id": "safw8Z7aVNXD",
        "outputId": "b41e03f7-b879-498b-e345-40303754275f",
        "colab": {
          "base_uri": "https://localhost:8080/",
          "height": 341
        }
      },
      "source": [
        "from IPython.display import Image\n",
        "Image(url='https://media.giphy.com/media/dvJ8bj4sQqLIZEpBg4/giphy.gif')"
      ],
      "execution_count": 5,
      "outputs": [
        {
          "output_type": "execute_result",
          "data": {
            "text/html": [
              "<img src=\"https://media.giphy.com/media/dvJ8bj4sQqLIZEpBg4/giphy.gif\"/>"
            ],
            "text/plain": [
              "<IPython.core.display.Image object>"
            ]
          },
          "metadata": {
            "tags": []
          },
          "execution_count": 5
        }
      ]
    },
    {
      "cell_type": "markdown",
      "metadata": {
        "id": "CzOkvrlIWKsK"
      },
      "source": [
        "**Sobre os dados**\n",
        "\n",
        "Esse estudo estará utilizando dados coletados e tratados pela equipe da Alura, na qual disponibilizou o dataset [neste link](https://github.com/alura-cursos/imersao-dados-2-2020/blob/master/MICRODADOS_ENEM_2019_SAMPLE_43278.csv?raw=true). Com base nas informações dispostas nesse dataset, realizarei insights acerca dos inscritos e das circunstâncias que envolveram a prova. Importante ressaltar que tal conjunto de dados é apenas uma amostra das informações de todos os inscritos, contendo somente 127380."
      ]
    },
    {
      "cell_type": "markdown",
      "metadata": {
        "id": "ildzXD_gXYqz"
      },
      "source": [
        "**Perguntas a serem respondidas:**\n",
        "\n",
        "Dentre alguns dos questionamentos que podem ser gerados com estes dados, tenho interesse em saber a resposta para as seguintes perguntas:\n",
        "\n",
        "- Qual a relação do ano de conclusão com o desempenho nas provas? Será que os estudantes que terminaram recentemente o ensino médio levam vantagem sobre os outros inscritos?\n",
        "- Qual foi a proporção de homens e mulheres que participaram da prova? E qual seus desempenhos?\n",
        "- Quem solicitou o atendimento especializado teve o mesmo aproveitamento de quem não solicitou?\n",
        "- Será que a nota final de quem tem uma renda maior foi superior aos demais?\n",
        "- Existe alguma relação da variável idade com a prova de inglês/espanhol?\n",
        "\n",
        "\n"
      ]
    },
    {
      "cell_type": "code",
      "metadata": {
        "id": "MXtfcuPyVhIS"
      },
      "source": [
        ""
      ],
      "execution_count": null,
      "outputs": []
    }
  ]
}